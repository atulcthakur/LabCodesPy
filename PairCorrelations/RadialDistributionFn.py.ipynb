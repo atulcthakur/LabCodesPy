{
 "cells": [
  {
   "cell_type": "code",
   "execution_count": 1,
   "metadata": {},
   "outputs": [
    {
     "data": {
      "text/html": [
       "<style>.container { width:99% }</style>"
      ],
      "text/plain": [
       "<IPython.core.display.HTML object>"
      ]
     },
     "metadata": {},
     "output_type": "display_data"
    }
   ],
   "source": [
    "from IPython.core.display import display, HTML\n",
    "display(HTML(\"<style>.container { width:99% }</style>\"))"
   ]
  },
  {
   "cell_type": "code",
   "execution_count": 2,
   "metadata": {},
   "outputs": [],
   "source": [
    "import numpy as np\n",
    "import pandas as pd \n",
    "from scipy.spatial.distance import pdist, squareform, cdist\n",
    "#from readtraj import read_traj,sort_traj\n",
    "import math\n",
    "from tqdm.notebook import tqdm\n",
    "from modulefile import chunk_traj, read_sorted\n",
    "pd.options.mode.chained_assignment = None\n",
    "import os"
   ]
  },
  {
   "cell_type": "code",
   "execution_count": 3,
   "metadata": {},
   "outputs": [],
   "source": [
    "import matplotlib.pyplot as plt"
   ]
  },
  {
   "cell_type": "markdown",
   "metadata": {},
   "source": [
    "The pair distribution function g(r) is more simply thought of as the number of atoms a distance 'r' from a given atom divided by the\n",
    "number at the same distance in an ideal gas at the same density."
   ]
  },
  {
   "cell_type": "code",
   "execution_count": null,
   "metadata": {},
   "outputs": [],
   "source": [
    "pd.set_option(\"display.max_rows\", None, \"display.max_columns\", None)"
   ]
  },
  {
   "cell_type": "raw",
   "metadata": {},
   "source": [
    "1) First write the code for calculating center of mass trajectory for a given molecules. \n",
    "2) Write the code for calculting the rdf given a trajectory of points for which rdf to be calculated e.g coms' for atoms. \n",
    "3) Write the code to combine the two.\n",
    "what i want is take the value of mass atom from the second dataframe if that matches. "
   ]
  },
  {
   "cell_type": "code",
   "execution_count": null,
   "metadata": {},
   "outputs": [],
   "source": []
  },
  {
   "cell_type": "code",
   "execution_count": null,
   "metadata": {
    "code_folding": []
   },
   "outputs": [],
   "source": [
    "# This will calculate the trajectory of com's\n",
    "mass = {\"C\": 12, \"H\": 1, \"N\": 14}\n",
    "molecules = [\"N\",\"H\"] # Enter only the unique atoms of the molecule. # think if first value can be H\n",
    "length_mol = 4\n",
    "def do_com(trajectory, masses=mass, total_atoms=256, molecules=molecules, mol_length=length_mol):\n",
    "    \"\"\"\n",
    "    This function calculates an center of mass trajectory for the specified molecules from the sorted trajectory. The returned dictionary containing COMs should usually be used as an input to the RDF code. \n",
    "    \"\"\"\n",
    "    assert molecules[0] != \"H\" ,\"First atom should be heavy and not H\"\n",
    "    com_traj = {}\n",
    "    for key in tqdm(trajectory.keys()):\n",
    "        df = trajectory[key] # Current frame under consideration  \n",
    "        heavy_atom_df = df.loc[(df['atoms'] == molecules[0])] # Dataframe of heavy atoms corresponding to 1st position in molecule list\n",
    "        repeat_count = df.pivot_table(index=['mols'], aggfunc='size') # How many times each entry in mols columns is repeated i.e. effectively the length of the molecule \n",
    "        repeat_count = (repeat_count.mask(repeat_count != mol_length)).dropna() # If the length of the molecule is not as specified in the functions argument then drop them. \n",
    "        mol_df = df.loc[(df['mols'].isin(heavy_atom_df['mols'])) & (df['mols'].isin(repeat_count.index))] # Dataframe containing the molecules having the specified heavy atom and corresponding to the specified length\n",
    "        #! total_unique_atoms = mol_df.atoms.nunique(dropna = True) # Total number of unique atoms in your mol_df\n",
    "        #! unique_atoms = mol_df.atoms.unique() # List of unique atoms in your mol_df\n",
    "        mol_df['mass'] = mol_df['atoms'].map(masses) # Map the masses to respective atoms as given in specified mass dictionary (input)\n",
    "        assert (not mol_df['mass'].isnull().any()), \"Some of the masses have not been assigned which means your mass dictinary is incomplete. Please provide mass list of all unique atoms in the trajectory.\" \n",
    "        #### Here first multiply by mass column and then do the following. \n",
    "        mol_df[['x','y','z']] = mol_df[['x','y','z']].mul(mol_df['mass'], axis=0) #  Multiplying by the masses \n",
    "        com_df = mol_df.groupby(\"mols\").sum() # Numerator of the COM formula i.e x1*m1 + x2*m2 + x3*m3..... and same along y and z for every molecule. \n",
    "        com_df[['x','y','z']]  = com_df[['x','y','z']].div(com_df['mass'], axis=0) # Dividing by the total mass to get x_cm, y_cm and z_cm\n",
    "        com_traj[key] = com_df # Storing the frame in dictionary or trajectory of center of masses.\n",
    "        #print(mol_df)\n",
    "        #break\n",
    "    return com_traj"
   ]
  },
  {
   "cell_type": "code",
   "execution_count": null,
   "metadata": {
    "code_folding": []
   },
   "outputs": [],
   "source": [
    "molecules = [\"N\",\"H\"]\n",
    "def do_atom(trajectory, molecules=molecules):\n",
    "    com_traj = {}\n",
    "    for key in tqdm(trajectory.keys()):\n",
    "        df = trajectory[key]\n",
    "        heavy_atom_df = df.loc[(df['atoms'] == molecules[0])]\n",
    "        com_traj[key] = heavy_atom_df\n",
    "    return com_traj"
   ]
  },
  {
   "cell_type": "code",
   "execution_count": 4,
   "metadata": {
    "code_folding": []
   },
   "outputs": [],
   "source": [
    "def xyz_writer(input_traj, atoms=None, xyzname=\"output.xyz\", com_traj=False):\n",
    "    if os.path.exists(xyzname):\n",
    "        os.remove(xyzname)\n",
    "    if atoms is None:\n",
    "        listdfs = list(input_traj.values())\n",
    "        atoms = len(listdfs[0])\n",
    "    if com_traj:\n",
    "        atom_array = np.array([\"A\"]*atoms)\n",
    "    else:\n",
    "        atom_array = listdfs[0]['atoms'].to_numpy()\n",
    "    str_array = np.zeros(atom_array.size, dtype=[('var1', 'U6'), ('var2', np.float64), ('var3', np.float64), ('var4', np.float64)])\n",
    "    with open(xyzname, 'a') as file:    \n",
    "        for counter, key in enumerate(tqdm(input_traj)):\n",
    "            df = input_traj[key]\n",
    "            file.write(\"{}\\n\".format(atoms))\n",
    "            file.write(\"time = {}\\n\".format(counter))\n",
    "            str_array['var1'] = atom_array\n",
    "            str_array['var2'] = df['x'].to_numpy()\n",
    "            str_array['var3'] = df['y'].to_numpy()\n",
    "            str_array['var4'] = df['z'].to_numpy()\n",
    "            np.savetxt(file, str_array, fmt='%5s %17.10f %17.10f %17.10f')\n",
    "            #if counter==2:\n",
    "            #    break\n",
    "    return None"
   ]
  },
  {
   "cell_type": "markdown",
   "metadata": {},
   "source": [
    "nn_traj = do_atom()\n",
    "nnrdf = do_rdf(nn_traj, nbins=500)\n",
    "a, b = nnrdf\n",
    "np.savetxt(\"PBE-D3/90K-AA/90K_N-N_rdf.txt\",np.c_[b,a],fmt=\"%15.8f\")\n",
    "plt.plot(b, a)"
   ]
  },
  {
   "cell_type": "code",
   "execution_count": null,
   "metadata": {},
   "outputs": [],
   "source": []
  },
  {
   "cell_type": "markdown",
   "metadata": {},
   "source": [
    "nn_traj_30k = do_atom(trajectory=sorted_trajectory_30k)\n",
    "rdf_30k = do_rdf(nn_traj_30k, nbins=500)\n",
    "g, rm = rdf_30k\n",
    "plt.plot(rm, g)\n",
    "np.savetxt(\"PBE-D3/30K-AA/30K_N-N_rdf.txt\",np.c_[rm,g],fmt=\"%15.8f\")"
   ]
  },
  {
   "cell_type": "code",
   "execution_count": null,
   "metadata": {},
   "outputs": [],
   "source": []
  },
  {
   "cell_type": "code",
   "execution_count": 5,
   "metadata": {
    "code_folding": []
   },
   "outputs": [],
   "source": [
    "def make_whole(sorted_traj, atoms=256, x=18.284, y=12.740, z=11.778, write_traj=False):\n",
    "    x_half = x/2.0\n",
    "    y_half = y/2.0\n",
    "    z_half = z/2.0\n",
    "    output = {}\n",
    "    for counter, key in enumerate(tqdm(sorted_traj)):\n",
    "        df = sorted_traj[key]\n",
    "        wholed_df = df.copy(deep=True)\n",
    "        select_df = df[['index', 'x', 'y', 'z']]\n",
    "        grouped_first_entry = df.groupby(\"mols\").nth(0)\n",
    "        repeat_count = df.groupby(\"mols\").size()\n",
    "        ref_df = grouped_first_entry.loc[grouped_first_entry.index.repeat(repeat_count)].reset_index(drop=True)\n",
    "        ref_df = ref_df[['index', 'x', 'y', 'z']]\n",
    "        r_ix = select_df - ref_df\n",
    "        conditions_x, values_x = [(r_ix['x'] > x_half), (r_ix['x'] < -x_half)], [-x, x]\n",
    "        conditions_y, values_y = [(r_ix['y'] > y_half), (r_ix['y'] < -y_half)], [-y, y]\n",
    "        conditions_z, values_z = [(r_ix['z'] > z_half), (r_ix['z'] < -z_half)], [-z, z]\n",
    "        shifts_x = np.select(conditions_x, values_x, default=0.0)\n",
    "        shifts_y = np.select(conditions_y, values_y, default=0.0)\n",
    "        shifts_z = np.select(conditions_z, values_z, default=0.0)\n",
    "        wholed_df['x'] =  df['x'] + shifts_x\n",
    "        wholed_df['y'] =  df['y'] + shifts_y\n",
    "        wholed_df['z'] =  df['z'] + shifts_z\n",
    "        output[key] = wholed_df\n",
    "    if write_traj:\n",
    "        xyz_writer(output, xyzname=\"wholed_traj.xyz\")\n",
    "        return None\n",
    "    return output"
   ]
  },
  {
   "cell_type": "code",
   "execution_count": null,
   "metadata": {},
   "outputs": [],
   "source": []
  },
  {
   "cell_type": "code",
   "execution_count": null,
   "metadata": {
    "code_folding": []
   },
   "outputs": [],
   "source": [
    "def do_rdf(traj_dict, nbins=100, x=18.284, y=12.740, z=11.778, rmax=None):\n",
    "    h = np.zeros(nbins)\n",
    "    box = np.array([x,y,z])\n",
    "    if rmax is None:\n",
    "        rmax = min(box) / 2.0\n",
    "        #rmax = np.linalg.norm(box/2)\n",
    "    dr = rmax / nbins\n",
    "    #print(rmax, dr)\n",
    "    periodic_dist  = lambda u, v: np.linalg.norm((u-v) - (box * ((u-v)/box).round()))\n",
    "    for counter, key in enumerate(tqdm((traj_dict.keys()))):\n",
    "        frame_df = traj_dict[key]\n",
    "        xyz_df = frame_df[['x','y','z']]\n",
    "        #@me: pairwise = pd.DataFrame(squareform(pdist(xyz_df, periodic_dist)), columns = frame_df.index, index = frame_df.index)\n",
    "        pairwise = squareform(pdist(xyz_df, periodic_dist))                   \n",
    "        upper_triangular = pairwise[np.triu_indices_from(pairwise, k=1)] \n",
    "        hist,edges = np.histogram(upper_triangular,bins=nbins,range=(0.0,rmax)) # Accumulate histogram of separations\n",
    "        h  += 2*hist                                      # Accumulate histogram\n",
    "        #if counter==1: \n",
    "        #    #print(h)\n",
    "        #    pairwise_ = pd.DataFrame(squareform(pdist(xyz_df, periodic_dist)), columns = frame_df.index, index = frame_df.index)\n",
    "        #    print(pairwise_)\n",
    "        #    break\n",
    "        #@me: pairwise_floored = (pairwise.div(dr, axis=0)).apply(np.floor) # + 1 # oth shell is now 1st shell. \n",
    "        #@me: np.fill_diagonal(pairwise_floored.values, np.nan) # th\n",
    "        #@me: values = pairwise_floored.values[~np.isnan(pairwise_floored.values)]\n",
    "        #! pairwise_floored.values[pairwise_floored.values > nbins] = 0  # clear off the values that are more than r_max - if value is greater than nbin put it zero \n",
    "        #@me: unique_tupule = np.unique(values, return_counts=True)\n",
    "        #@me: hist[unique_tupule[0].astype(int)] += unique_tupule[1] # what's with zero ? \n",
    "        \n",
    "    N = len(traj_dict[list(traj_dict)[0]]) \n",
    "    nstep = len(traj_dict)\n",
    "    vol = x*y*z\n",
    "    rho = N / vol #Number density but of reference particles or all the atoms? \n",
    "    gk_normal = h / (N*nstep)\n",
    "    h_id = ( 4.0 * np.pi * rho / 3.0) * ( edges[1:nbins+1]**3 - edges[0:nbins]**3 )\n",
    "    #print(h_id)\n",
    "    gr_normalised = gk_normal / h_id # hist_ideal \n",
    "    r_mid = 0.5*(edges[0:nbins]+edges[1:nbins+1]) # Mid points of bins\n",
    "    #######################################################################\n",
    "    return gr_normalised, r_mid"
   ]
  },
  {
   "cell_type": "code",
   "execution_count": null,
   "metadata": {},
   "outputs": [],
   "source": []
  },
  {
   "cell_type": "code",
   "execution_count": null,
   "metadata": {},
   "outputs": [],
   "source": []
  },
  {
   "cell_type": "code",
   "execution_count": null,
   "metadata": {},
   "outputs": [],
   "source": [
    "################################################"
   ]
  },
  {
   "cell_type": "code",
   "execution_count": null,
   "metadata": {
    "code_folding": [
     0
    ]
   },
   "outputs": [],
   "source": [
    "def do_freud_rdf(traj_dict, nbins=100, x=18.284, y=12.740, z=11.778, rmax=None, ref=None):\n",
    "    h = np.zeros(nbins)\n",
    "    box = np.array([x,y,z])\n",
    "    if rmax is None: rmax = min(box) / 2.0\n",
    "    dr = rmax / nbins\n",
    "    total_len = len(traj_dict[\"time_0\"])\n",
    "    if ref is None: ref = total_len - 1\n",
    "    assert ref < total_len, \"ref has to be less than total length\"\n",
    "    periodic_dist  = lambda u, v: np.linalg.norm((u-v) - (box * ((u-v)/box).round()))\n",
    "    terms = np.sum(np.linspace(total_len-1, total_len-ref, ref), dtype=np.int32)\n",
    "    for counter, key in enumerate(tqdm((traj_dict.keys()))):\n",
    "        frame_df = traj_dict[key]\n",
    "        xyz_df = frame_df[['x','y','z']]\n",
    "        #@me: pairwise = pd.DataFrame(squareform(pdist(xyz_df, periodic_dist)), columns = frame_df.index, index = frame_df.index)\n",
    "        pairwise = squareform(pdist(xyz_df, periodic_dist))                   \n",
    "        upper_triangular = pairwise[np.triu_indices_from(pairwise, k=1)]\n",
    "        upper_triangular = upper_triangular[:terms]    \n",
    "        hist,edges = np.histogram(upper_triangular,bins=nbins,range=(0.0,rmax)) # Accumulate histogram of separations\n",
    "        h  += 2*hist                                      # Accumulate histogram\n",
    "        #if counter==1: \n",
    "        #    #print(h)\n",
    "        #    pairwise_ = pd.DataFrame(squareform(pdist(xyz_df, periodic_dist)), columns = frame_df.index, index = frame_df.index)\n",
    "        #    print(pairwise_)\n",
    "        #    break\n",
    "        #@me: pairwise_floored = (pairwise.div(dr, axis=0)).apply(np.floor) # + 1 # oth shell is now 1st shell. \n",
    "        #@me: np.fill_diagonal(pairwise_floored.values, np.nan) # th\n",
    "        #@me: values = pairwise_floored.values[~np.isnan(pairwise_floored.values)]\n",
    "        #! pairwise_floored.values[pairwise_floored.values > nbins] = 0  # clear off the values that are more than r_max - if value is greater than nbin put it zero \n",
    "        #@me: unique_tupule = np.unique(values, return_counts=True)\n",
    "        #@me: hist[unique_tupule[0].astype(int)] += unique_tupule[1] # what's with zero ? \n",
    "        if counter == 1: break\n",
    "    \n",
    "    N = len(traj_dict[list(traj_dict)[0]]) \n",
    "    nstep = len(traj_dict)\n",
    "    vol = x*y*z\n",
    "    rho = N / vol #Number density but of reference particles or all the atoms? \n",
    "    if ref is not None: M = ref\n",
    "    M = N\n",
    "    gk_normal = h / (M*nstep)\n",
    "    h_id = ( 4.0 * np.pi * rho / 3.0) * ( edges[1:nbins+1]**3 - edges[0:nbins]**3 )\n",
    "    #print(h_id)\n",
    "    gr_normalised = gk_normal / h_id # hist_ideal \n",
    "    r_mid = 0.5*(edges[0:nbins]+edges[1:nbins+1]) # Mid points of bins\n",
    "    #######################################################################\n",
    "    return gr_normalised, r_mid"
   ]
  },
  {
   "cell_type": "code",
   "execution_count": null,
   "metadata": {},
   "outputs": [],
   "source": []
  },
  {
   "cell_type": "code",
   "execution_count": null,
   "metadata": {},
   "outputs": [],
   "source": []
  },
  {
   "cell_type": "code",
   "execution_count": 6,
   "metadata": {
    "code_folding": [
     2,
     6,
     7,
     9,
     12,
     15,
     17,
     19,
     21
    ]
   },
   "outputs": [],
   "source": [
    "def replicate_unitcell(input_traj, write_traj=False, x_box=18.284, y_box=12.740, z_box=11.778, original_natoms=256, along_x=False, along_y=False, along_z=False, filename=\"big_traj.xyz\"):\n",
    "    local_vars={\"x_box\": x_box, \"y_box\": y_box, \"z_box\": z_box}\n",
    "    if along_x and along_y and along_z:\n",
    "        evals = [\"x = x + @x_box\", \"y = y + @y_box\", \"z = z + @z_box\", \n",
    "                 \"\"\"x = x + @x_box \\n y = y + @y_box\"\"\", \"\"\"x = x + @x_box \\n z = z + @z_box\"\"\", \"\"\"y = y + @y_box \\n z = z + @z_box\"\"\", \n",
    "                 \"\"\"x = x + @x_box \\n y = y + @y_box \\n z = z + @z_box\"\"\"]\n",
    "    elif along_x and along_y:\n",
    "        evals = [\"x = x + @x_box\", \"y = y + @y_box\", \n",
    "                 \"\"\"x = x + @x_box \\n y = y + @y_box\"\"\"]    \n",
    "    elif along_x and along_z:\n",
    "        evals = [\"x = x + @x_box\", \"z = z + @z_box\", \n",
    "                 \"\"\"x = x + @x_box \\n z = z + @z_box\"\"\"] \n",
    "    elif along_y and along_z:\n",
    "        evals = [ \"y = y + @y_box\", \"z = z + @z_box\", \n",
    "                 \"\"\"y = y + @y_box \\n z = z + @z_box\"\"\"]\n",
    "    elif along_x:\n",
    "        evals = [\"x = x + @x_box\"] \n",
    "    elif along_y:\n",
    "        evals = [\"y = y + @y_box\"]\n",
    "    elif along_z:\n",
    "        evals = [\"z = z + @z_box\"]\n",
    "    else:\n",
    "        raise Exception(\"At lease something of X, Y and Z needs to be True\")\n",
    "    big_sys = {}\n",
    "    for counter, key in enumerate(tqdm(input_traj)):\n",
    "        df = input_traj[key]\n",
    "        transformations = [df.eval(expr, local_dict=local_vars) for expr in evals]        \n",
    "        transformations.insert(0, df)\n",
    "        big_df = pd.concat(transformations, ignore_index=True)\n",
    "        big_sys[key] = big_df\n",
    "        #break\n",
    "    if write_traj:\n",
    "        xyz_writer(big_sys, xyzname=filename)\n",
    "        return None\n",
    "    return big_sys"
   ]
  },
  {
   "cell_type": "code",
   "execution_count": null,
   "metadata": {},
   "outputs": [],
   "source": []
  },
  {
   "cell_type": "code",
   "execution_count": null,
   "metadata": {},
   "outputs": [],
   "source": [
    "replicate_unitcell(sorted_trajectory_30k, along_x=True, write_traj=True)"
   ]
  },
  {
   "cell_type": "code",
   "execution_count": null,
   "metadata": {},
   "outputs": [],
   "source": []
  },
  {
   "cell_type": "code",
   "execution_count": null,
   "metadata": {},
   "outputs": [],
   "source": []
  },
  {
   "cell_type": "code",
   "execution_count": null,
   "metadata": {},
   "outputs": [],
   "source": []
  },
  {
   "cell_type": "code",
   "execution_count": null,
   "metadata": {},
   "outputs": [],
   "source": []
  },
  {
   "cell_type": "code",
   "execution_count": null,
   "metadata": {},
   "outputs": [],
   "source": []
  },
  {
   "cell_type": "code",
   "execution_count": null,
   "metadata": {},
   "outputs": [],
   "source": [
    "#sorted_trajectory_30k['time_0'].groupby('mols').apply(lambda x: x.sort_values(['atoms']))"
   ]
  },
  {
   "cell_type": "code",
   "execution_count": null,
   "metadata": {},
   "outputs": [],
   "source": []
  },
  {
   "cell_type": "code",
   "execution_count": null,
   "metadata": {},
   "outputs": [],
   "source": [
    "#s = pd.Series(['C', 'a', 'B'])\n",
    "#s.sort_values(key=lambda x: x.str.lower())"
   ]
  },
  {
   "cell_type": "code",
   "execution_count": null,
   "metadata": {},
   "outputs": [],
   "source": []
  },
  {
   "cell_type": "markdown",
   "metadata": {},
   "source": [
    "### Sys-122 Analysis:"
   ]
  },
  {
   "cell_type": "code",
   "execution_count": null,
   "metadata": {},
   "outputs": [],
   "source": [
    "sys_122_traj_obj = chunk_traj(file=\"Sys-122/Sys122_90k_fastsorted.txt\", atoms=128)"
   ]
  },
  {
   "cell_type": "code",
   "execution_count": null,
   "metadata": {},
   "outputs": [],
   "source": [
    "sorted_sys122_90k = read_sorted(sys_122_traj_obj, atoms=128)"
   ]
  },
  {
   "cell_type": "code",
   "execution_count": null,
   "metadata": {},
   "outputs": [],
   "source": []
  },
  {
   "cell_type": "code",
   "execution_count": null,
   "metadata": {},
   "outputs": [],
   "source": [
    "replicate_unitcell(sorted_sys122_90k, along_x=True, along_y=True, along_z=True, write_traj=True, filename=\"Sys-122/Bigsys_alongxyz.xyz\", x_box=9.142)"
   ]
  },
  {
   "cell_type": "code",
   "execution_count": null,
   "metadata": {},
   "outputs": [],
   "source": []
  },
  {
   "cell_type": "code",
   "execution_count": null,
   "metadata": {},
   "outputs": [],
   "source": []
  },
  {
   "cell_type": "code",
   "execution_count": null,
   "metadata": {},
   "outputs": [],
   "source": []
  },
  {
   "cell_type": "code",
   "execution_count": null,
   "metadata": {},
   "outputs": [],
   "source": []
  },
  {
   "cell_type": "code",
   "execution_count": null,
   "metadata": {},
   "outputs": [],
   "source": []
  },
  {
   "cell_type": "markdown",
   "metadata": {},
   "source": [
    "### NH3-NH3 RDF 30K:"
   ]
  },
  {
   "cell_type": "code",
   "execution_count": null,
   "metadata": {},
   "outputs": [],
   "source": [
    "traj_obj_30k = chunk_traj(file=\"PBE-D3/30K-AA/30K_fastsorted.xyz\")"
   ]
  },
  {
   "cell_type": "code",
   "execution_count": null,
   "metadata": {},
   "outputs": [],
   "source": [
    "sorted_trajectory_30k = read_sorted(traj_obj_30k)"
   ]
  },
  {
   "cell_type": "code",
   "execution_count": null,
   "metadata": {},
   "outputs": [],
   "source": [
    "temp = {'time_0': sorted_trajectory_30k['time_0']}\n",
    "wholed = make_whole(temp, write_traj=False)"
   ]
  },
  {
   "cell_type": "code",
   "execution_count": null,
   "metadata": {},
   "outputs": [],
   "source": [
    "replicated_sys = replicate_unitcell(wholed)"
   ]
  },
  {
   "cell_type": "code",
   "execution_count": null,
   "metadata": {},
   "outputs": [],
   "source": []
  },
  {
   "cell_type": "code",
   "execution_count": null,
   "metadata": {},
   "outputs": [],
   "source": [
    "xyz_writer(replicated_sys, xyzname=\"Bigsys_test.xyz\")"
   ]
  },
  {
   "cell_type": "code",
   "execution_count": null,
   "metadata": {},
   "outputs": [],
   "source": [
    "make_whole(replicated_sys, x=18.284, y=25.48, z=23.556, write_traj=True)"
   ]
  },
  {
   "cell_type": "code",
   "execution_count": null,
   "metadata": {},
   "outputs": [],
   "source": [
    "25.48/2"
   ]
  },
  {
   "cell_type": "code",
   "execution_count": null,
   "metadata": {},
   "outputs": [],
   "source": []
  },
  {
   "cell_type": "code",
   "execution_count": null,
   "metadata": {},
   "outputs": [],
   "source": []
  },
  {
   "cell_type": "code",
   "execution_count": null,
   "metadata": {},
   "outputs": [],
   "source": [
    "np.set_printoptions(threshold=np.inf)"
   ]
  },
  {
   "cell_type": "code",
   "execution_count": null,
   "metadata": {},
   "outputs": [],
   "source": [
    "big_traj = replicate_unitcell(sorted_trajectory_30k, write_traj=False)"
   ]
  },
  {
   "cell_type": "code",
   "execution_count": null,
   "metadata": {},
   "outputs": [],
   "source": [
    "traj = make_whole(order, x=18.284, y=25.48, z=23.556, write_traj=True)"
   ]
  },
  {
   "cell_type": "code",
   "execution_count": null,
   "metadata": {},
   "outputs": [],
   "source": []
  },
  {
   "cell_type": "code",
   "execution_count": null,
   "metadata": {},
   "outputs": [],
   "source": []
  },
  {
   "cell_type": "code",
   "execution_count": null,
   "metadata": {},
   "outputs": [],
   "source": [
    "order = {\"time_0\": sorted_trajectory_30k['time_0']}"
   ]
  },
  {
   "cell_type": "code",
   "execution_count": null,
   "metadata": {},
   "outputs": [],
   "source": [
    "make_whole(order, x=18.284, write_traj=True)"
   ]
  },
  {
   "cell_type": "code",
   "execution_count": null,
   "metadata": {},
   "outputs": [],
   "source": [
    "big_traj['time_0']"
   ]
  },
  {
   "cell_type": "code",
   "execution_count": null,
   "metadata": {},
   "outputs": [],
   "source": [
    "(23.831125 - -0.597602) - 23.556"
   ]
  },
  {
   "cell_type": "code",
   "execution_count": null,
   "metadata": {},
   "outputs": [],
   "source": []
  },
  {
   "cell_type": "code",
   "execution_count": null,
   "metadata": {},
   "outputs": [],
   "source": []
  },
  {
   "cell_type": "code",
   "execution_count": null,
   "metadata": {},
   "outputs": [],
   "source": [
    "xyz_writer(big_traj, xyzname=\"big_traj.xyz\")"
   ]
  },
  {
   "cell_type": "code",
   "execution_count": null,
   "metadata": {},
   "outputs": [],
   "source": []
  },
  {
   "cell_type": "code",
   "execution_count": null,
   "metadata": {},
   "outputs": [],
   "source": [
    "wholed_bigtraj = make_whole(big_traj, y=25.48, z=23.556)"
   ]
  },
  {
   "cell_type": "code",
   "execution_count": null,
   "metadata": {},
   "outputs": [],
   "source": [
    "order = {\"time_0\": wholed_bigtraj['time_0']}\n",
    "xyz_writer(order, xyzname=\"delete.xyz\")"
   ]
  },
  {
   "cell_type": "code",
   "execution_count": null,
   "metadata": {},
   "outputs": [],
   "source": [
    "n_traj = do_atom(big_traj)"
   ]
  },
  {
   "cell_type": "code",
   "execution_count": null,
   "metadata": {},
   "outputs": [],
   "source": [
    "gr_30k, rmid_30k = do_rdf(traj_dict=n_traj, nbins=400, rmax=9.0, x=18.284, y=25.48, z=23.556)"
   ]
  },
  {
   "cell_type": "code",
   "execution_count": null,
   "metadata": {},
   "outputs": [],
   "source": []
  },
  {
   "cell_type": "code",
   "execution_count": null,
   "metadata": {},
   "outputs": [],
   "source": []
  },
  {
   "cell_type": "code",
   "execution_count": null,
   "metadata": {},
   "outputs": [],
   "source": []
  },
  {
   "cell_type": "code",
   "execution_count": null,
   "metadata": {},
   "outputs": [],
   "source": [
    "wholed_traj_30k =  make_whole(sorted_trajectory_30k)"
   ]
  },
  {
   "cell_type": "code",
   "execution_count": null,
   "metadata": {},
   "outputs": [],
   "source": [
    "com_traj_30K = do_com(trajectory=wholed_traj_30k)"
   ]
  },
  {
   "cell_type": "code",
   "execution_count": null,
   "metadata": {},
   "outputs": [],
   "source": [
    "xyz_writer(com_traj_30K, com_traj=True, xyzname=\"PBE-D3/30K-AA/NH3_COM_30k.xyz\")"
   ]
  },
  {
   "cell_type": "code",
   "execution_count": null,
   "metadata": {},
   "outputs": [],
   "source": [
    "gr_30k, rmid_30k = do_rdf(traj_dict=com_traj_30K,nbins=500)"
   ]
  },
  {
   "cell_type": "code",
   "execution_count": null,
   "metadata": {},
   "outputs": [],
   "source": []
  },
  {
   "cell_type": "code",
   "execution_count": null,
   "metadata": {},
   "outputs": [],
   "source": []
  },
  {
   "cell_type": "code",
   "execution_count": null,
   "metadata": {},
   "outputs": [],
   "source": []
  },
  {
   "cell_type": "code",
   "execution_count": null,
   "metadata": {},
   "outputs": [],
   "source": [
    "np.savetxt(\"PBE-D3/30K-AA/30K_NH3-NH3_rdf.txt\",np.c_[rmid_30k,gr_30k],fmt=\"%15.8f\")"
   ]
  },
  {
   "cell_type": "code",
   "execution_count": null,
   "metadata": {},
   "outputs": [],
   "source": []
  },
  {
   "cell_type": "code",
   "execution_count": null,
   "metadata": {},
   "outputs": [],
   "source": [
    "gr_30k_temp, rmid_30k_temp, gr_new_ = do_rdf(traj_dict=com_traj_30K,nbins=500)"
   ]
  },
  {
   "cell_type": "code",
   "execution_count": null,
   "metadata": {},
   "outputs": [],
   "source": []
  },
  {
   "cell_type": "markdown",
   "metadata": {},
   "source": [
    "### Original System-222 90K Analysis:"
   ]
  },
  {
   "cell_type": "code",
   "execution_count": null,
   "metadata": {},
   "outputs": [],
   "source": []
  },
  {
   "cell_type": "code",
   "execution_count": null,
   "metadata": {},
   "outputs": [],
   "source": [
    "traj_obj_90k = chunk_traj(file=\"PBE-D3/90K-AA/90K_fastsorted.xyz\")\n",
    "sorted_trajectory_90k = read_sorted(traj_obj_90k)"
   ]
  },
  {
   "cell_type": "code",
   "execution_count": null,
   "metadata": {},
   "outputs": [],
   "source": [
    "replicate_unitcell(sorted_trajectory_90k, along_y=True, along_z=True, write_traj=True, filename=\"PBE-D3/90K-AA/Bigsys_alongyz/bigsys_alongyz.xyz\")"
   ]
  },
  {
   "cell_type": "code",
   "execution_count": null,
   "metadata": {},
   "outputs": [],
   "source": []
  },
  {
   "cell_type": "code",
   "execution_count": null,
   "metadata": {},
   "outputs": [],
   "source": [
    "xyz_writer(sorted_trajectory_90k, xyzname=\"PBE-D3/90K-AA/90K_sorted_formatted.xyz\")"
   ]
  },
  {
   "cell_type": "code",
   "execution_count": null,
   "metadata": {},
   "outputs": [],
   "source": []
  },
  {
   "cell_type": "code",
   "execution_count": null,
   "metadata": {},
   "outputs": [],
   "source": []
  },
  {
   "cell_type": "code",
   "execution_count": null,
   "metadata": {},
   "outputs": [],
   "source": []
  },
  {
   "cell_type": "code",
   "execution_count": null,
   "metadata": {},
   "outputs": [],
   "source": []
  },
  {
   "cell_type": "code",
   "execution_count": null,
   "metadata": {},
   "outputs": [],
   "source": []
  },
  {
   "cell_type": "code",
   "execution_count": null,
   "metadata": {},
   "outputs": [],
   "source": []
  },
  {
   "cell_type": "markdown",
   "metadata": {},
   "source": [
    "### C2H4-C2H4 RDF 90K:"
   ]
  },
  {
   "cell_type": "code",
   "execution_count": null,
   "metadata": {},
   "outputs": [],
   "source": []
  },
  {
   "cell_type": "code",
   "execution_count": null,
   "metadata": {},
   "outputs": [],
   "source": [
    "c2h4_com_traj_90k = do_com(trajectory=sorted_trajectory, molecules=[\"C\", \"H\"])"
   ]
  },
  {
   "cell_type": "code",
   "execution_count": null,
   "metadata": {},
   "outputs": [],
   "source": [
    "c2h4_com_traj_90k"
   ]
  },
  {
   "cell_type": "code",
   "execution_count": null,
   "metadata": {},
   "outputs": [],
   "source": []
  },
  {
   "cell_type": "code",
   "execution_count": null,
   "metadata": {},
   "outputs": [],
   "source": [
    "c2h4_gr_90k, c2h4_rmid_90k = do_rdf(traj_dict=c2h4_com_traj_90k, nbins=500)"
   ]
  },
  {
   "cell_type": "code",
   "execution_count": null,
   "metadata": {},
   "outputs": [],
   "source": [
    "plt.plot(c2h4_rmid_90k, c2h4_gr_90k)"
   ]
  },
  {
   "cell_type": "code",
   "execution_count": null,
   "metadata": {},
   "outputs": [],
   "source": [
    "np.savetxt(\"PBE-D3/90K-AA/90K_C2H4-C2H4_rdf.txt\",np.c_[c2h4_rmid_90k, c2h4_gr_90k],fmt=\"%15.8f\")"
   ]
  },
  {
   "cell_type": "code",
   "execution_count": null,
   "metadata": {},
   "outputs": [],
   "source": []
  },
  {
   "cell_type": "code",
   "execution_count": null,
   "metadata": {},
   "outputs": [],
   "source": []
  },
  {
   "cell_type": "markdown",
   "metadata": {},
   "source": [
    "### C2H4-C2H4 RDF 30K:"
   ]
  },
  {
   "cell_type": "code",
   "execution_count": null,
   "metadata": {},
   "outputs": [],
   "source": []
  },
  {
   "cell_type": "code",
   "execution_count": null,
   "metadata": {},
   "outputs": [],
   "source": [
    "c2h4_com_traj_30k = do_com(trajectory=wholed_traj_30k, molecules=[\"C\", \"H\"])"
   ]
  },
  {
   "cell_type": "code",
   "execution_count": null,
   "metadata": {},
   "outputs": [],
   "source": [
    "c2h4_gr_30k, c2h4_rmid_30k = do_rdf(traj_dict=c2h4_com_traj_30k, nbins=500)"
   ]
  },
  {
   "cell_type": "code",
   "execution_count": null,
   "metadata": {},
   "outputs": [],
   "source": [
    "plt.plot(c2h4_rmid_30k, c2h4_gr_30k)"
   ]
  },
  {
   "cell_type": "code",
   "execution_count": null,
   "metadata": {},
   "outputs": [],
   "source": [
    "np.savetxt(\"PBE-D3/30K-AA/30K_C2H4-C2H4_rdf.txt\",np.c_[c2h4_rmid_30k, c2h4_gr_30k],fmt=\"%15.8f\")"
   ]
  },
  {
   "cell_type": "code",
   "execution_count": null,
   "metadata": {},
   "outputs": [],
   "source": [
    "plt.plot(rmid_30k, gr_30k)\n",
    "plt.plot(c2h4_rmid_30k, c2h4_gr_30k)"
   ]
  },
  {
   "cell_type": "code",
   "execution_count": null,
   "metadata": {},
   "outputs": [],
   "source": []
  },
  {
   "cell_type": "code",
   "execution_count": null,
   "metadata": {},
   "outputs": [],
   "source": []
  },
  {
   "cell_type": "code",
   "execution_count": null,
   "metadata": {},
   "outputs": [],
   "source": []
  },
  {
   "cell_type": "markdown",
   "metadata": {},
   "source": [
    "# Mol. Phy. Paper Plots: "
   ]
  },
  {
   "cell_type": "markdown",
   "metadata": {},
   "source": [
    "## - 90K Trajectory: "
   ]
  },
  {
   "cell_type": "code",
   "execution_count": null,
   "metadata": {},
   "outputs": [],
   "source": [
    "traj_obj_90k = chunk_traj(file=\"PBE-D3/90K-AA/90K_fastsorted.xyz\")\n",
    "sorted_trajectory_90k = read_sorted(traj_obj_90k)"
   ]
  },
  {
   "cell_type": "code",
   "execution_count": null,
   "metadata": {},
   "outputs": [],
   "source": [
    "replicated_90k_traj = replicate_unitcell(sorted_trajectory_90k, along_y=True, along_z=True, write_traj=False)"
   ]
  },
  {
   "cell_type": "code",
   "execution_count": null,
   "metadata": {},
   "outputs": [],
   "source": [
    "xyz_writer(replicated_90k_traj, xyzname=\"../PAPER_Plots/AA-90K/RDF_TRAJ/just_replicated_90k_traj.xyz\")"
   ]
  },
  {
   "cell_type": "code",
   "execution_count": null,
   "metadata": {},
   "outputs": [],
   "source": [
    "wholed_original_traj_90k = make_whole(sorted_trajectory_90k, write_traj=False)"
   ]
  },
  {
   "cell_type": "code",
   "execution_count": null,
   "metadata": {},
   "outputs": [],
   "source": [
    "wholed_replicated_90k_traj = replicate_unitcell(wholed_original_traj_90k, along_y=True, along_z=True, write_traj=False)"
   ]
  },
  {
   "cell_type": "code",
   "execution_count": null,
   "metadata": {},
   "outputs": [],
   "source": [
    "xyz_writer(wholed_replicated_90k_traj, xyzname=\"../PAPER_Plots/AA-90K/RDF_TRAJ/wholed_replicated_90k_fulltraj.xyz\")"
   ]
  },
  {
   "cell_type": "code",
   "execution_count": null,
   "metadata": {},
   "outputs": [],
   "source": [
    "file_obj = chunk_traj(file=\"../PAPER_Plots/AA-90K/RDF_TRAJ/sorted_wholed_replicated_90k_fulltraj.csv\", atoms=1024)\n",
    "sorted_wholed_replicated_90k_fulltraj = read_sorted(file_obj)"
   ]
  },
  {
   "cell_type": "code",
   "execution_count": null,
   "metadata": {},
   "outputs": [],
   "source": [
    "#pbc set {18.284 25.48 23.556} -all"
   ]
  },
  {
   "cell_type": "markdown",
   "metadata": {},
   "source": [
    "#### N-N RDF: "
   ]
  },
  {
   "cell_type": "code",
   "execution_count": null,
   "metadata": {},
   "outputs": [],
   "source": [
    "molecules = [\"N\",\"H\"]\n",
    "N_traj = do_atom(replicated_90k_traj, molecules=molecules)"
   ]
  },
  {
   "cell_type": "code",
   "execution_count": null,
   "metadata": {},
   "outputs": [],
   "source": [
    "N_N_gr, N_N_rmid = do_rdf(traj_dict=N_traj, nbins=400, rmax=9.0, x=18.284, y=25.48, z=23.556)"
   ]
  },
  {
   "cell_type": "code",
   "execution_count": null,
   "metadata": {},
   "outputs": [],
   "source": [
    "plt.plot(N_N_rmid, N_N_gr)"
   ]
  },
  {
   "cell_type": "code",
   "execution_count": null,
   "metadata": {},
   "outputs": [],
   "source": [
    "np.savetxt(\"../PAPER_Plots/AA-90K/Code-RDF/N-N_code_Rdf_0.0225dr_9rmax_400nbins.dat\",np.c_[N_N_rmid, N_N_gr],fmt=\"%15.10f\")"
   ]
  },
  {
   "cell_type": "markdown",
   "metadata": {},
   "source": [
    "#### C-C RDF: "
   ]
  },
  {
   "cell_type": "code",
   "execution_count": null,
   "metadata": {},
   "outputs": [],
   "source": [
    "molecules = [\"C\"]\n",
    "C_traj = do_atom(replicated_90k_traj, molecules=molecules)"
   ]
  },
  {
   "cell_type": "code",
   "execution_count": null,
   "metadata": {},
   "outputs": [],
   "source": [
    "C_C_gr, C_C_rmid = do_rdf(traj_dict=C_traj, nbins=400, rmax=9.0, x=18.284, y=25.48, z=23.556)"
   ]
  },
  {
   "cell_type": "code",
   "execution_count": null,
   "metadata": {},
   "outputs": [],
   "source": []
  },
  {
   "cell_type": "markdown",
   "metadata": {},
   "source": [
    "#### C2H2-C2H2 RDF: "
   ]
  },
  {
   "cell_type": "code",
   "execution_count": null,
   "metadata": {},
   "outputs": [],
   "source": [
    "mass = {\"C\": 12, \"H\": 1, \"N\": 14}\n",
    "molecules = [\"C\",\"H\"] # Enter only the unique atoms of the molecule.\n",
    "length_mol = 4"
   ]
  },
  {
   "cell_type": "code",
   "execution_count": null,
   "metadata": {},
   "outputs": [],
   "source": [
    "C2H4_C2H4_com_traj_90k = do_com(sorted_wholed_replicated_90k_fulltraj, masses=mass, total_atoms=1024, molecules=molecules, mol_length=length_mol)"
   ]
  },
  {
   "cell_type": "code",
   "execution_count": null,
   "metadata": {},
   "outputs": [],
   "source": [
    "xyz_writer(C2H4_C2H4_com_traj_90k, com_traj=True, xyzname=\"../PAPER_Plots/AA-90K/RDF_TRAJ/C2H4_C2H4_com_traj_90k.xyz\")"
   ]
  },
  {
   "cell_type": "code",
   "execution_count": null,
   "metadata": {},
   "outputs": [],
   "source": []
  },
  {
   "cell_type": "markdown",
   "metadata": {},
   "source": [
    "#### NH3-NH3 RDF: "
   ]
  },
  {
   "cell_type": "code",
   "execution_count": null,
   "metadata": {},
   "outputs": [],
   "source": [
    "mass = {\"C\": 12, \"H\": 1, \"N\": 14}\n",
    "molecules = [\"N\",\"H\"] # Enter only the unique atoms of the molecule.\n",
    "length_mol = 4"
   ]
  },
  {
   "cell_type": "code",
   "execution_count": null,
   "metadata": {},
   "outputs": [],
   "source": [
    "NH3_NH3_com_traj_90k = do_com(sorted_wholed_replicated_90k_fulltraj, masses=mass, total_atoms=1024, molecules=molecules, mol_length=length_mol)"
   ]
  },
  {
   "cell_type": "code",
   "execution_count": null,
   "metadata": {},
   "outputs": [],
   "source": [
    "xyz_writer(NH3_NH3_com_traj_90k, com_traj=True, xyzname=\"../PAPER_Plots/AA-90K/RDF_TRAJ/NH3_NH3_com_traj_90k.xyz\")"
   ]
  },
  {
   "cell_type": "code",
   "execution_count": null,
   "metadata": {},
   "outputs": [],
   "source": []
  },
  {
   "cell_type": "markdown",
   "metadata": {},
   "source": [
    "#### C2H2-NH3 RDF: "
   ]
  },
  {
   "cell_type": "code",
   "execution_count": null,
   "metadata": {
    "code_folding": []
   },
   "outputs": [],
   "source": [
    "def all_molecules_com(wholed_input_traj, name_dict, mass_dict=mass):\n",
    "    all_com_dict = {}\n",
    "    for counter, key in enumerate(tqdm(wholed_input_traj)):\n",
    "        mol_df = wholed_input_traj[key].copy(deep=True)\n",
    "        mol_df['mass'] = mol_df['atoms'].map(mass_dict) # Map the masses to respective atoms as given in specified mass dictionary (input)\n",
    "        assert (not mol_df['mass'].isnull().any()), \"Some of the masses have not been assigned which means your mass dictinary is incomplete. Please provide mass list of all unique atoms in the trajectory.\" \n",
    "        #### Here first multiply by mass column and then do the following. \n",
    "        mol_df[['x','y','z']] = mol_df[['x','y','z']].mul(mol_df['mass'], axis=0) #  Multiplying by the masses \n",
    "        com_df = mol_df.groupby(\"mols\").sum() # Numerator of the COM formula i.e x1*m1 + x2*m2 + x3*m3..... and same along y and z for every molecule. \n",
    "        com_df[['x','y','z']]  = com_df[['x','y','z']].div(com_df['mass'], axis=0) # Dividing by the total mass to get x_cm, y_cm and z_cm\n",
    "        com_df['atoms'] = com_df['mass'].map(name_dict)\n",
    "        all_com_dict[key] = com_df # Storing the frame in dictionary or trajectory of center of masses.\n",
    "        #print(com_df)\n",
    "        #break\n",
    "    return all_com_dict"
   ]
  },
  {
   "cell_type": "code",
   "execution_count": null,
   "metadata": {},
   "outputs": [],
   "source": [
    "names = {17: \"NH3\", 26: \"C2H4\"}"
   ]
  },
  {
   "cell_type": "code",
   "execution_count": null,
   "metadata": {},
   "outputs": [],
   "source": [
    "all_com_traj_90k = all_molecules_com(sorted_wholed_replicated_90k_fulltraj, name_dict=names)"
   ]
  },
  {
   "cell_type": "code",
   "execution_count": null,
   "metadata": {},
   "outputs": [],
   "source": [
    "xyz_writer(all_com_traj_90k, com_traj=False, xyzname=\"../PAPER_Plots/AA-90K/RDF_TRAJ/C2H4_NH3_com_traj_90k.xyz\")"
   ]
  },
  {
   "cell_type": "code",
   "execution_count": 2,
   "metadata": {},
   "outputs": [
    {
     "data": {
      "text/plain": [
       "17.03022"
      ]
     },
     "execution_count": 2,
     "metadata": {},
     "output_type": "execute_result"
    }
   ],
   "source": [
    "(14.0067*1) + (1.00784*3)"
   ]
  },
  {
   "cell_type": "markdown",
   "metadata": {},
   "source": [
    "#### C2H2-N RDF:"
   ]
  },
  {
   "cell_type": "code",
   "execution_count": null,
   "metadata": {
    "code_folding": []
   },
   "outputs": [],
   "source": [
    "def c2h2_and_n_traj(input_traj, molecules=[\"C\",\"N\"]):\n",
    "    traj = {}\n",
    "    for counter, key in enumerate(tqdm(input_traj)):\n",
    "        frame = input_traj[key].copy(deep=True)\n",
    "        frame['mols'] = np.repeat(np.arange(256), 4)  # This is very bad. Don't do this. Replication changes the molecule definition. \n",
    "        #I did this because I was lazy to reassemble molecules using sorttraj.py but ideally that's how things should be done. \n",
    "        # This is okay here because this is anyway a temperory function and I don't need real molecules here since I'm gonna use VMD. \n",
    "        heavy_atom_df = frame.loc[(frame['atoms'] == molecules[0])] # Dataframe of heavy atoms corresponding to 1st position in molecule list\n",
    "        c2h2_df = frame.loc[frame['mols'].isin(heavy_atom_df['mols'])]\n",
    "        N_df = frame.loc[frame['atoms'] == molecules[1]]\n",
    "        n_c2h2_df = pd.concat([c2h2_df, N_df])\n",
    "        traj[key] = n_c2h2_df\n",
    "        #break\n",
    "    return traj"
   ]
  },
  {
   "cell_type": "code",
   "execution_count": null,
   "metadata": {},
   "outputs": [],
   "source": [
    "c2h2_and_n_traj_90k = c2h2_and_n_traj(replicated_90k_traj)"
   ]
  },
  {
   "cell_type": "code",
   "execution_count": null,
   "metadata": {},
   "outputs": [],
   "source": [
    "xyz_writer(c2h2_and_n_traj_90k, com_traj=False, xyzname=\"../PAPER_Plots/AA-90K/RDF_TRAJ/C2H2_N_traj_90k.xyz\")"
   ]
  },
  {
   "cell_type": "code",
   "execution_count": null,
   "metadata": {},
   "outputs": [],
   "source": []
  },
  {
   "cell_type": "markdown",
   "metadata": {},
   "source": [
    "####  C2H2 COM - NH RDF: "
   ]
  },
  {
   "cell_type": "code",
   "execution_count": null,
   "metadata": {},
   "outputs": [],
   "source": [
    "mass = {\"C\": 12, \"H\": 1, \"N\": 14}\n",
    "molecules = [\"C\",\"H\"] # Enter only the unique atoms of the molecule.\n",
    "length_mol = 4\n",
    "C2H4_C2H4_com_traj_90k = do_com(sorted_wholed_replicated_90k_fulltraj, masses=mass, total_atoms=1024, molecules=molecules, mol_length=length_mol)"
   ]
  },
  {
   "cell_type": "code",
   "execution_count": null,
   "metadata": {},
   "outputs": [],
   "source": [
    "def add_name(input_traj, name=\"C2H2\", atoms=128):\n",
    "    traj = {}\n",
    "    for counter, key in enumerate(tqdm(input_traj)):\n",
    "        frame = input_traj[key].copy(deep=True)\n",
    "        frame['atoms'] =np.repeat([name], atoms)\n",
    "        traj[key] = frame\n",
    "    return traj"
   ]
  },
  {
   "cell_type": "code",
   "execution_count": null,
   "metadata": {},
   "outputs": [],
   "source": [
    "named_c2h2_com = add_name(C2H4_C2H4_com_traj_90k)"
   ]
  },
  {
   "cell_type": "code",
   "execution_count": null,
   "metadata": {},
   "outputs": [],
   "source": [
    "named_c2h2_com['time_1']"
   ]
  },
  {
   "cell_type": "code",
   "execution_count": null,
   "metadata": {},
   "outputs": [],
   "source": [
    "def h_atom(input_traj, molecules = [\"N\",\"H\"]):\n",
    "    traj = {}\n",
    "    for counter, key in enumerate(tqdm(input_traj)):\n",
    "        frame = input_traj[key].copy(deep=True)\n",
    "        heavy_atom_df = frame.loc[(frame['atoms'] == molecules[0])] # Dataframe of heavy atoms corresponding to 1st position in molecule list\n",
    "        #repeat_count = frame.pivot_table(index=['mols'], aggfunc='size') # How many times each entry in mols columns is repeated i.e. effectively the length of the molecule \n",
    "        #repeat_count = (repeat_count.mask(repeat_count != mol_length)).dropna() # If the length of the molecule is not as specified in the functions argument then drop them.         \n",
    "        mol_df = frame.loc[(frame['mols'].isin(heavy_atom_df['mols']))] # Dataframe containing the molecules having the specified heavy atom and corresponding to the specified length\n",
    "        traj[key] = mol_df\n",
    "        #print(mol_df)\n",
    "        #break\n",
    "    return traj"
   ]
  },
  {
   "cell_type": "code",
   "execution_count": null,
   "metadata": {},
   "outputs": [],
   "source": [
    "nh_traj = h_atom(sorted_wholed_replicated_90k_fulltraj)"
   ]
  },
  {
   "cell_type": "code",
   "execution_count": null,
   "metadata": {},
   "outputs": [],
   "source": [
    "def combine(c2h2_traj, nhtraj):\n",
    "    traj = {}\n",
    "    for key in tqdm(c2h2_traj):\n",
    "        traj[key] = pd.concat([c2h2_traj[key], nhtraj[key]])\n",
    "        #print(traj[key])\n",
    "        #break\n",
    "    return traj"
   ]
  },
  {
   "cell_type": "code",
   "execution_count": null,
   "metadata": {},
   "outputs": [],
   "source": [
    "final_c2h2com_nh_traj = combine(named_c2h2_com, nh_traj)"
   ]
  },
  {
   "cell_type": "code",
   "execution_count": null,
   "metadata": {},
   "outputs": [],
   "source": [
    "xyz_writer(final_c2h2com_nh_traj, com_traj=False, xyzname=\"../PAPER_Plots/AA-90K/RDF_TRAJ/COM_C2H2_NH_traj_90k.xyz\")"
   ]
  },
  {
   "cell_type": "code",
   "execution_count": null,
   "metadata": {},
   "outputs": [],
   "source": []
  },
  {
   "cell_type": "markdown",
   "metadata": {},
   "source": [
    "## - 30K Trajectory: "
   ]
  },
  {
   "cell_type": "code",
   "execution_count": null,
   "metadata": {},
   "outputs": [],
   "source": [
    "traj_30k = chunk_traj(file=\"PBE-D3/30K-AA/30K_fastsorted.xyz\")\n",
    "sorted_trajectory_30k = read_sorted(traj_30k)"
   ]
  },
  {
   "cell_type": "code",
   "execution_count": null,
   "metadata": {},
   "outputs": [],
   "source": [
    "replicated_30k = replicate_unitcell(sorted_trajectory_30k, along_y=True, along_z=True, write_traj=False)"
   ]
  },
  {
   "cell_type": "code",
   "execution_count": null,
   "metadata": {},
   "outputs": [],
   "source": [
    "xyz_writer(replicated_30k, xyzname=\"../PAPER_Plots/AA-30K/RDF TRAJ 30K/just_replicated_30k_traj.xyz\")"
   ]
  },
  {
   "cell_type": "code",
   "execution_count": null,
   "metadata": {},
   "outputs": [],
   "source": [
    "wholed_30k = make_whole(sorted_trajectory_30k, write_traj=False)"
   ]
  },
  {
   "cell_type": "code",
   "execution_count": null,
   "metadata": {},
   "outputs": [],
   "source": [
    "wholed_replicated_30k_traj = replicate_unitcell(wholed_30k, along_y=True, along_z=True, write_traj=False)"
   ]
  },
  {
   "cell_type": "code",
   "execution_count": null,
   "metadata": {},
   "outputs": [],
   "source": [
    "xyz_writer(wholed_replicated_30k_traj, xyzname=\"../PAPER_Plots/AA-30K/RDF TRAJ 30K/wholed_replicated_30K_fulltraj.xyz\")"
   ]
  },
  {
   "cell_type": "code",
   "execution_count": null,
   "metadata": {},
   "outputs": [],
   "source": [
    "obj_30k = chunk_traj(file=\"../PAPER_Plots/AA-30K/RDF TRAJ 30K/sorted_wholed_replicated_30k_fulltraj.csv\", atoms=1024)\n",
    "sorted_wholed_replicated_30k_fulltraj = read_sorted(obj_30k)"
   ]
  },
  {
   "cell_type": "code",
   "execution_count": null,
   "metadata": {},
   "outputs": [],
   "source": []
  },
  {
   "cell_type": "markdown",
   "metadata": {},
   "source": [
    "#### C2H2-NH3 RDF:  30K :"
   ]
  },
  {
   "cell_type": "code",
   "execution_count": null,
   "metadata": {},
   "outputs": [],
   "source": [
    "all_com_traj_30k = all_molecules_com(sorted_wholed_replicated_30k_fulltraj, name_dict=names)"
   ]
  },
  {
   "cell_type": "code",
   "execution_count": null,
   "metadata": {},
   "outputs": [],
   "source": [
    "xyz_writer(all_com_traj_30k, com_traj=False, xyzname=\"../PAPER_Plots/AA-30K/RDF TRAJ 30K/C2H4_NH3_com_traj_30k.xyz\")"
   ]
  },
  {
   "cell_type": "code",
   "execution_count": null,
   "metadata": {},
   "outputs": [],
   "source": []
  },
  {
   "cell_type": "code",
   "execution_count": null,
   "metadata": {},
   "outputs": [],
   "source": []
  },
  {
   "cell_type": "code",
   "execution_count": null,
   "metadata": {},
   "outputs": [],
   "source": []
  },
  {
   "cell_type": "code",
   "execution_count": null,
   "metadata": {},
   "outputs": [],
   "source": []
  },
  {
   "cell_type": "code",
   "execution_count": null,
   "metadata": {},
   "outputs": [],
   "source": []
  },
  {
   "cell_type": "code",
   "execution_count": null,
   "metadata": {},
   "outputs": [],
   "source": []
  },
  {
   "cell_type": "markdown",
   "metadata": {},
   "source": [
    "#### Replicating RPMD simulation Traj for IFRP Presentation"
   ]
  },
  {
   "cell_type": "code",
   "execution_count": 9,
   "metadata": {},
   "outputs": [
    {
     "data": {
      "application/vnd.jupyter.widget-view+json": {
       "model_id": "e7e404b7e84f49b9ba96cbe13c35e7b1",
       "version_major": 2,
       "version_minor": 0
      },
      "text/plain": [
       "HBox(children=(HTML(value=''), FloatProgress(value=1.0, bar_style='info', layout=Layout(width='20px'), max=1.0…"
      ]
     },
     "metadata": {},
     "output_type": "display_data"
    },
    {
     "name": "stdout",
     "output_type": "stream",
     "text": [
      "\n"
     ]
    }
   ],
   "source": [
    "rpmd_xyz = chunk_traj(file=\"rpmd-for-ifrp/fastsorted_rpmd.dat\", atoms=128)\n",
    "sorted_rpmd = read_sorted(rpmd_xyz)"
   ]
  },
  {
   "cell_type": "code",
   "execution_count": 12,
   "metadata": {},
   "outputs": [
    {
     "data": {
      "application/vnd.jupyter.widget-view+json": {
       "model_id": "174df1d7b82a4438b85bae8a1a01b8a3",
       "version_major": 2,
       "version_minor": 0
      },
      "text/plain": [
       "HBox(children=(HTML(value=''), FloatProgress(value=0.0, max=701568.0), HTML(value='')))"
      ]
     },
     "metadata": {},
     "output_type": "display_data"
    },
    {
     "name": "stdout",
     "output_type": "stream",
     "text": [
      "\n"
     ]
    }
   ],
   "source": [
    "rpmd_90k_wholed = make_whole(sorted_rpmd, atoms=128, x=(18.284/2), y=12.740, z=11.778, write_traj=False)"
   ]
  },
  {
   "cell_type": "code",
   "execution_count": null,
   "metadata": {},
   "outputs": [],
   "source": []
  },
  {
   "cell_type": "code",
   "execution_count": null,
   "metadata": {},
   "outputs": [],
   "source": []
  },
  {
   "cell_type": "code",
   "execution_count": null,
   "metadata": {},
   "outputs": [],
   "source": []
  },
  {
   "cell_type": "code",
   "execution_count": null,
   "metadata": {},
   "outputs": [],
   "source": []
  },
  {
   "cell_type": "code",
   "execution_count": null,
   "metadata": {},
   "outputs": [],
   "source": []
  },
  {
   "cell_type": "code",
   "execution_count": null,
   "metadata": {},
   "outputs": [],
   "source": []
  },
  {
   "cell_type": "code",
   "execution_count": null,
   "metadata": {},
   "outputs": [],
   "source": []
  },
  {
   "cell_type": "markdown",
   "metadata": {},
   "source": [
    "# Rough Code: "
   ]
  },
  {
   "cell_type": "code",
   "execution_count": null,
   "metadata": {},
   "outputs": [],
   "source": [
    "x = np.arange(len(gr))\n",
    "plt.plot(x,gr)"
   ]
  },
  {
   "cell_type": "code",
   "execution_count": null,
   "metadata": {},
   "outputs": [],
   "source": [
    "z = pd.DataFrame(x, gr)\n",
    "z.to_csv('test.txt', sep=\" \")"
   ]
  },
  {
   "cell_type": "code",
   "execution_count": null,
   "metadata": {},
   "outputs": [],
   "source": [
    "x,y,z = 18.284, 12.740, 11.778\n",
    "box = np.array([x,y,z])        \n",
    "frame_df = input_traj['time_0']\n",
    "xyz_df = frame_df[['x','y','z']]\n",
    "x_array = xyz_df.x.values \n",
    "y_array = xyz_df.y.values\n",
    "z_array = xyz_df.z.values \n",
    "rik = []\n",
    "for i in [1]: #range(len(x_array)-1):\n",
    "    for j in range(i+1,len(x_array)):\n",
    "        x_dist = (x_array[j] - x_array[i]) - (x * ((x_array[j] - x_array[i]) / x).round())\n",
    "        y_dist = (y_array[j] - y_array[i]) - (y * ((y_array[j] - y_array[i]) / y).round())\n",
    "        z_dist = (z_array[j] - z_array[i]) - (z * ((z_array[j] - z_array[i]) / z).round())\n",
    "        r_ik = np.linalg.norm(np.array([x_dist, y_dist, z_dist]))\n",
    "        rik.append(r_ik)\n",
    "check = np.array(rik)\n",
    "print(check - check_sp)"
   ]
  },
  {
   "cell_type": "code",
   "execution_count": null,
   "metadata": {},
   "outputs": [],
   "source": [
    "mass = {\"C\": 12, \"H\": 1, \"N\": 14}\n",
    "[mass[x] if x == 'C' else 'green' for x in mass.keys()]"
   ]
  },
  {
   "cell_type": "code",
   "execution_count": null,
   "metadata": {},
   "outputs": [],
   "source": [
    "mass[list(mass)[0]]"
   ]
  },
  {
   "cell_type": "code",
   "execution_count": null,
   "metadata": {},
   "outputs": [],
   "source": [
    "check = {}\n",
    "check['stuff'] = 'ball'"
   ]
  },
  {
   "cell_type": "code",
   "execution_count": null,
   "metadata": {},
   "outputs": [],
   "source": [
    "check"
   ]
  },
  {
   "cell_type": "code",
   "execution_count": null,
   "metadata": {},
   "outputs": [],
   "source": [
    "check = {}\n",
    "for i in ['time_0', 'time_1','time_2','time_3']:\n",
    "    check[i] = 'stuff'\n"
   ]
  },
  {
   "cell_type": "code",
   "execution_count": null,
   "metadata": {},
   "outputs": [],
   "source": [
    "ok = {}\n",
    "for key in check.keys():\n",
    "    ok[key] = 'geek' "
   ]
  },
  {
   "cell_type": "code",
   "execution_count": null,
   "metadata": {},
   "outputs": [],
   "source": [
    "import sys\n",
    "sys.version"
   ]
  },
  {
   "cell_type": "code",
   "execution_count": null,
   "metadata": {},
   "outputs": [],
   "source": [
    "import math\n",
    "np.floor((np.arange(0.1,1.1,0.1)))"
   ]
  },
  {
   "cell_type": "code",
   "execution_count": null,
   "metadata": {},
   "outputs": [],
   "source": [
    "np.arange(0.1,1.1,0.1)"
   ]
  },
  {
   "cell_type": "code",
   "execution_count": null,
   "metadata": {},
   "outputs": [],
   "source": [
    "df = pd.DataFrame({\n",
    "    'length': [1.5, 0.5, 1.2, 0.9, 3],\n",
    "    'width': [0.7, 0.2, 0.15, 0.2, 1.1]\n",
    "    }, index=['pig', 'rabbit', 'duck', 'chicken', 'horse'])\n",
    "df"
   ]
  },
  {
   "cell_type": "code",
   "execution_count": null,
   "metadata": {},
   "outputs": [],
   "source": [
    "hist = df.hist(bins=3)\n",
    "hist"
   ]
  },
  {
   "cell_type": "code",
   "execution_count": null,
   "metadata": {},
   "outputs": [],
   "source": [
    "a = np.ones(10)\n",
    "k=0\n",
    "for i in range(10):\n",
    "    k += a\n",
    "    print(k)"
   ]
  },
  {
   "cell_type": "code",
   "execution_count": null,
   "metadata": {},
   "outputs": [],
   "source": [
    "import math \n",
    "math.floor(67)"
   ]
  },
  {
   "cell_type": "code",
   "execution_count": null,
   "metadata": {},
   "outputs": [],
   "source": [
    "a = np.random.randint(0, 5, size=(5, 4))\n",
    "a"
   ]
  },
  {
   "cell_type": "code",
   "execution_count": null,
   "metadata": {},
   "outputs": [],
   "source": [
    "a[a > 2] = 0\n",
    "a"
   ]
  },
  {
   "cell_type": "code",
   "execution_count": null,
   "metadata": {},
   "outputs": [],
   "source": [
    "np.unique(a, return_counts=True)"
   ]
  },
  {
   "cell_type": "code",
   "execution_count": null,
   "metadata": {},
   "outputs": [],
   "source": [
    "(np.ones(5) + 1)**5"
   ]
  },
  {
   "cell_type": "code",
   "execution_count": null,
   "metadata": {},
   "outputs": [],
   "source": [
    "np.unique([1, 1, 2, 5, 3, 3], return_counts=True)"
   ]
  },
  {
   "cell_type": "code",
   "execution_count": null,
   "metadata": {},
   "outputs": [],
   "source": [
    "k = (np.ones(5) + 1)**5"
   ]
  },
  {
   "cell_type": "code",
   "execution_count": null,
   "metadata": {},
   "outputs": [],
   "source": [
    "k[4] = 100"
   ]
  },
  {
   "cell_type": "code",
   "execution_count": null,
   "metadata": {},
   "outputs": [],
   "source": [
    "k[[0,1,2]] = 1,1,1"
   ]
  },
  {
   "cell_type": "code",
   "execution_count": null,
   "metadata": {},
   "outputs": [],
   "source": [
    "a = np.array([1,2,3])\n",
    "b = np.array([100,100,100])"
   ]
  },
  {
   "cell_type": "code",
   "execution_count": null,
   "metadata": {},
   "outputs": [],
   "source": [
    "k[a] = b"
   ]
  },
  {
   "cell_type": "code",
   "execution_count": null,
   "metadata": {},
   "outputs": [],
   "source": [
    "k"
   ]
  },
  {
   "cell_type": "code",
   "execution_count": null,
   "metadata": {},
   "outputs": [],
   "source": [
    "len(k)"
   ]
  },
  {
   "cell_type": "code",
   "execution_count": null,
   "metadata": {},
   "outputs": [],
   "source": [
    "a = np.arange(99)\n",
    "hist, bin_edges = np.histogram(a, bins=100)"
   ]
  },
  {
   "cell_type": "code",
   "execution_count": null,
   "metadata": {},
   "outputs": [],
   "source": [
    "hist"
   ]
  },
  {
   "cell_type": "code",
   "execution_count": null,
   "metadata": {},
   "outputs": [],
   "source": [
    "bin_edges"
   ]
  },
  {
   "cell_type": "code",
   "execution_count": null,
   "metadata": {},
   "outputs": [],
   "source": [
    "a = np.arange(16).reshape(4, 4)\n",
    "a"
   ]
  },
  {
   "cell_type": "code",
   "execution_count": null,
   "metadata": {},
   "outputs": [],
   "source": [
    "k = a[np.triu_indices_from(a,k=1)]\n",
    "k"
   ]
  },
  {
   "cell_type": "code",
   "execution_count": null,
   "metadata": {},
   "outputs": [],
   "source": []
  },
  {
   "cell_type": "code",
   "execution_count": null,
   "metadata": {},
   "outputs": [],
   "source": []
  },
  {
   "cell_type": "code",
   "execution_count": null,
   "metadata": {},
   "outputs": [],
   "source": []
  },
  {
   "cell_type": "code",
   "execution_count": null,
   "metadata": {},
   "outputs": [],
   "source": []
  },
  {
   "cell_type": "code",
   "execution_count": null,
   "metadata": {},
   "outputs": [],
   "source": [
    "chunks = chunk_traj(file='/Users/act114/research/temp/90k-aa/sorted_1frame2.dat', atoms=256)\n",
    "read = read_sorted(chunks)\n",
    "read"
   ]
  },
  {
   "cell_type": "code",
   "execution_count": null,
   "metadata": {},
   "outputs": [],
   "source": [
    "wholed = make_whole(read)"
   ]
  },
  {
   "cell_type": "code",
   "execution_count": null,
   "metadata": {},
   "outputs": [],
   "source": [
    "xyz_writer(wholed, xyzname='/Users/act114/research/temp/90k-aa/oneframe-wholed.xyz')"
   ]
  },
  {
   "cell_type": "code",
   "execution_count": null,
   "metadata": {},
   "outputs": [],
   "source": [
    "replicate_unitcell(wholed, along_x=False, along_y=False, along_z=True, write_traj=True, filename='/Users/act114/research/temp/90k-aa/oneframe-replicated-yz.xyz')"
   ]
  },
  {
   "cell_type": "code",
   "execution_count": null,
   "metadata": {},
   "outputs": [],
   "source": []
  },
  {
   "cell_type": "code",
   "execution_count": null,
   "metadata": {},
   "outputs": [],
   "source": []
  },
  {
   "cell_type": "code",
   "execution_count": null,
   "metadata": {},
   "outputs": [],
   "source": []
  },
  {
   "cell_type": "code",
   "execution_count": 76,
   "metadata": {},
   "outputs": [],
   "source": [
    "import numpy as np"
   ]
  },
  {
   "cell_type": "code",
   "execution_count": 77,
   "metadata": {},
   "outputs": [
    {
     "data": {
      "text/plain": [
       "[<matplotlib.lines.Line2D at 0x13ba610d0>]"
      ]
     },
     "execution_count": 77,
     "metadata": {},
     "output_type": "execute_result"
    },
    {
     "data": {
      "image/png": "[encoded data removed]",
      "text/plain": [
       "<Figure size 432x288 with 1 Axes>"
      ]
     },
     "metadata": {
      "needs_background": "light"
     },
     "output_type": "display_data"
    }
   ],
   "source": [
    "sampling_rate = 30.0\n",
    "time = np.arange(0, 10, 1/sampling_rate)\n",
    "data = np.sin(2*np.pi*6*time) + np.random.randn(len(time))\n",
    "plt.plot(time, data)"
   ]
  },
  {
   "cell_type": "code",
   "execution_count": 17,
   "metadata": {},
   "outputs": [
    {
     "data": {
      "text/plain": [
       "[<matplotlib.lines.Line2D at 0x137127ee0>]"
      ]
     },
     "execution_count": 17,
     "metadata": {},
     "output_type": "execute_result"
    },
    {
     "data": {
      "image/png": "[encoded data removed]",
      "text/plain": [
       "<Figure size 432x288 with 1 Axes>"
      ]
     },
     "metadata": {
      "needs_background": "light"
     },
     "output_type": "display_data"
    }
   ],
   "source": [
    "fourier_transform = np.fft.rfft(data)\n",
    "abs_fourier_transform = np.abs(fourier_transform)\n",
    "power_spectrum = (abs_fourier_transform)**2\n",
    "frequency = np.linspace(0, sampling_rate/2, len(power_spectrum))\n",
    "plt.plot(frequency, power_spectrum)"
   ]
  },
  {
   "cell_type": "code",
   "execution_count": null,
   "metadata": {},
   "outputs": [],
   "source": []
  },
  {
   "cell_type": "code",
   "execution_count": 91,
   "metadata": {
    "code_folding": []
   },
   "outputs": [],
   "source": [
    "def numpy_correlate_unnormalized(array, cor_time=None):\n",
    "    time = len(array)\n",
    "    if cor_time is None:\n",
    "        cor_time=time-1\n",
    "    assert (cor_time < time), \"Make sure cor_time is less than length of your input array minus one\"\n",
    "    assert type(array) is np.ndarray,\"Your code broke because of wrong inputs\"\n",
    "    c_t = np.correlate(array,array,mode='full')\n",
    "    half = c_t.size//2\n",
    "    c_t = c_t[half:half+cor_time+1] # half+max_time_for_corr_function+1] # what is nt ?\n",
    "    c_t = c_t / np.linspace(time, time-cor_time, cor_time+1, dtype=np.float_) # Time normalization factor\n",
    "    \n",
    "    #c_t = c_t / np.linspace(nstep,nstep-nt,nt+1,dtype=np.float_) # nstep = np.linspace(len(array), len(array)-cor_time, cor_time+1, dtype=np.float_)\n",
    "    return c_t # Returning un-normalized version"
   ]
  },
  {
   "cell_type": "code",
   "execution_count": 92,
   "metadata": {},
   "outputs": [],
   "source": [
    "cor = numpy_correlate_unnormalized(data)"
   ]
  },
  {
   "cell_type": "code",
   "execution_count": 93,
   "metadata": {},
   "outputs": [],
   "source": [
    "ft_cor = np.fft.rfft((cor))"
   ]
  },
  {
   "cell_type": "code",
   "execution_count": 98,
   "metadata": {},
   "outputs": [
    {
     "data": {
      "text/plain": [
       "[<matplotlib.lines.Line2D at 0x13bfe9190>]"
      ]
     },
     "execution_count": 98,
     "metadata": {},
     "output_type": "execute_result"
    },
    {
     "data": {
      "image/png": "[encoded data removed]",
      "text/plain": [
       "<Figure size 432x288 with 1 Axes>"
      ]
     },
     "metadata": {
      "needs_background": "light"
     },
     "output_type": "display_data"
    }
   ],
   "source": [
    "plt.plot(frequency, np.abs(ft_cor))\n",
    "plt.plot(frequency, power_spectrum/300)"
   ]
  },
  {
   "cell_type": "code",
   "execution_count": 30,
   "metadata": {},
   "outputs": [],
   "source": [
    "ct = np.fft.irfft(power_spectrum)"
   ]
  },
  {
   "cell_type": "code",
   "execution_count": 80,
   "metadata": {},
   "outputs": [
    {
     "data": {
      "text/plain": [
       "[<matplotlib.lines.Line2D at 0x13bb83fd0>]"
      ]
     },
     "execution_count": 80,
     "metadata": {},
     "output_type": "execute_result"
    },
    {
     "data": {
      "image/png": "[encoded data removed]",
      "text/plain": [
       "<Figure size 432x288 with 1 Axes>"
      ]
     },
     "metadata": {
      "needs_background": "light"
     },
     "output_type": "display_data"
    }
   ],
   "source": [
    "plt.plot(np.arange(len(ct)), ct/ct[0]) # This is through WK thm\n",
    "plt.plot(np.arange(len(cor)), cor/cor[0]) # Direct "
   ]
  },
  {
   "cell_type": "code",
   "execution_count": null,
   "metadata": {},
   "outputs": [],
   "source": []
  },
  {
   "cell_type": "code",
   "execution_count": 39,
   "metadata": {},
   "outputs": [],
   "source": [
    "def mirror(arr, axis=0):\n",
    "    \"\"\"Mirror array `arr` at index 0 along `axis`.\n",
    "    The length of the returned array is 2*arr.shape[axis]-1 .\"\"\"\n",
    "    return np.concatenate((arr[::-1],arr[1:]), axis=axis)"
   ]
  },
  {
   "cell_type": "code",
   "execution_count": null,
   "metadata": {},
   "outputs": [],
   "source": []
  },
  {
   "cell_type": "code",
   "execution_count": 89,
   "metadata": {},
   "outputs": [
    {
     "data": {
      "text/plain": [
       "21000"
      ]
     },
     "execution_count": 89,
     "metadata": {},
     "output_type": "execute_result"
    }
   ],
   "source": [
    "70*300"
   ]
  },
  {
   "cell_type": "code",
   "execution_count": 101,
   "metadata": {},
   "outputs": [
    {
     "data": {
      "text/plain": [
       "300"
      ]
     },
     "execution_count": 101,
     "metadata": {},
     "output_type": "execute_result"
    }
   ],
   "source": [
    "len(data)"
   ]
  },
  {
   "cell_type": "code",
   "execution_count": null,
   "metadata": {},
   "outputs": [],
   "source": []
  },
  {
   "cell_type": "code",
   "execution_count": null,
   "metadata": {},
   "outputs": [],
   "source": []
  },
  {
   "cell_type": "code",
   "execution_count": null,
   "metadata": {},
   "outputs": [],
   "source": []
  },
  {
   "cell_type": "code",
   "execution_count": null,
   "metadata": {},
   "outputs": [],
   "source": []
  },
  {
   "cell_type": "code",
   "execution_count": null,
   "metadata": {},
   "outputs": [],
   "source": []
  }
 ],
 "metadata": {
  "kernelspec": {
   "display_name": "Python 3",
   "language": "python",
   "name": "python3"
  },
  "language_info": {
   "codemirror_mode": {
    "name": "ipython",
    "version": 3
   },
   "file_extension": ".py",
   "mimetype": "text/x-python",
   "name": "python",
   "nbconvert_exporter": "python",
   "pygments_lexer": "ipython3",
   "version": "3.9.13"
  }
 },
 "nbformat": 4,
 "nbformat_minor": 4
}
