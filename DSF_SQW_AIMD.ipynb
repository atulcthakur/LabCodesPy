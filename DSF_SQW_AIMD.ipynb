{
 "cells": [
  {
   "cell_type": "code",
   "execution_count": 1,
   "id": "324d89a3",
   "metadata": {},
   "outputs": [
    {
     "data": {
      "text/html": [
       "<style>.container { width:99% }</style>"
      ],
      "text/plain": [
       "<IPython.core.display.HTML object>"
      ]
     },
     "metadata": {},
     "output_type": "display_data"
    }
   ],
   "source": [
    "from IPython.core.display import display, HTML\n",
    "display(HTML(\"<style>.container { width:99% }</style>\"))"
   ]
  },
  {
   "cell_type": "code",
   "execution_count": 2,
   "id": "b518ae69",
   "metadata": {},
   "outputs": [],
   "source": [
    "import numpy as np\n",
    "import pandas as pd\n",
    "import scipy as sp\n",
    "import numba\n",
    "from tqdm.notebook import tqdm\n",
    "from numba import jit, njit\n",
    "from modulefile import xyz_writer, make_whole, sort_traj, map_index, read_aimd_pimd_xyz_faster, pickle_object, unpickle_object \n",
    "from numba.typed import List\n",
    "from scipy import signal\n",
    "import pickle"
   ]
  },
  {
   "cell_type": "code",
   "execution_count": 14,
   "id": "379acd05",
   "metadata": {},
   "outputs": [],
   "source": [
    "import matplotlib.pyplot as plt"
   ]
  },
  {
   "cell_type": "markdown",
   "id": "2b2029f3",
   "metadata": {},
   "source": [
    "**Steps**: \n",
    "\n",
    "- In essence, dynamic structure factor $S(\\vec{Q}, \\omega)$ is Fourier inverted correlation function of $ F(\\vec{Q}, t) = \\frac{1}{N} \\sum^{N}_{i=1} \\sum^{N}_{j=1}<e^{i\\vec{Q}.\\vec{r}_i(t)}e^{i\\vec{Q}.\\vec{r}_j(0)}>$ <br> \n",
    "- So question is How to find the intermediate scattering function, $ F(\\vec{Q}, t) $ as in how to select $\\vec{Q}$ values?  "
   ]
  },
  {
   "cell_type": "code",
   "execution_count": 3,
   "id": "155133db",
   "metadata": {
    "code_folding": [
     0
    ]
   },
   "outputs": [],
   "source": [
    "def uniform_random_rotation(x):\n",
    "    \"\"\"Apply a random rotation in 3D, with a distribution uniform over the\n",
    "    sphere.\n",
    "\n",
    "    Arguments:\n",
    "        x: vector or set of vectors with dimension (n, 3), where n is the\n",
    "            number of vectors\n",
    "\n",
    "    Returns:\n",
    "        Array of shape (n, 3) containing the randomly rotated vectors of x,\n",
    "        about the mean coordinate of x.\n",
    "\n",
    "    Algorithm taken from \"Fast Random Rotation Matrices\" (James Avro, 1992):\n",
    "    https://doi.org/10.1016/B978-0-08-050755-2.50034-8\n",
    "    \"\"\"\n",
    "\n",
    "    def generate_random_z_axis_rotation():\n",
    "        \"\"\"Generate random rotation matrix about the z axis.\"\"\"\n",
    "        R = np.eye(3)\n",
    "        x1 = np.random.rand()\n",
    "        R[0, 0] = R[1, 1] = np.cos(2 * np.pi * x1)\n",
    "        R[0, 1] = -np.sin(2 * np.pi * x1)\n",
    "        R[1, 0] = np.sin(2 * np.pi * x1)\n",
    "        return R\n",
    "\n",
    "    # There are two random variables in [0, 1) here (naming is same as paper)\n",
    "    x2 = 2 * np.pi * np.random.rand()\n",
    "    x3 = np.random.rand()\n",
    "\n",
    "    # Rotation of all points around x axis using matrix\n",
    "    R = generate_random_z_axis_rotation()\n",
    "    v = np.array([\n",
    "        np.cos(x2) * np.sqrt(x3),\n",
    "        np.sin(x2) * np.sqrt(x3),\n",
    "        np.sqrt(1 - x3)\n",
    "    ])\n",
    "    H = np.eye(3) - (2 * np.outer(v, v))\n",
    "    M = -(H @ R)\n",
    "    x = x.reshape((-1, 3))\n",
    "    mean_coord = np.mean(x, axis=0)\n",
    "    return ((x - mean_coord) @ M) + mean_coord @ M"
   ]
  },
  {
   "cell_type": "code",
   "execution_count": 4,
   "id": "9d96640e",
   "metadata": {},
   "outputs": [],
   "source": [
    "#@jit(nopython=True)\n",
    "def get_k_vectors(min_box_length, n_components=100, delta_k=0.1):\n",
    "    \"\"\"\n",
    "    Will compute the grid of kx, ky and kz wavevectors. \n",
    "    \"\"\"\n",
    "    k_min = (2*np.pi)/ (min_box_length/2)\n",
    "    k_max = 20  \n",
    "    nbins = int((k_max - k_min) // delta_k)\n",
    "    total_k = np.linspace(k_min, k_max, nbins)\n",
    "    all_k = np.zeros((n_components*len(total_k), 3))\n",
    "    #total_k_sq = total_k*total_k\n",
    "    count = 0\n",
    "    for k_value in total_k:\n",
    "        for index in range(n_components):\n",
    "            if (index == 0): \n",
    "                vec = np.array([k_value, 0, 0])\n",
    "                #all_k[count] = vec\n",
    "                #count += 1\n",
    "            vec = uniform_random_rotation(vec)\n",
    "            all_k[count] = vec\n",
    "            count += 1\n",
    "    return all_k"
   ]
  },
  {
   "cell_type": "code",
   "execution_count": null,
   "id": "eefb9913",
   "metadata": {},
   "outputs": [],
   "source": []
  },
  {
   "cell_type": "code",
   "execution_count": 5,
   "id": "9f9038fa",
   "metadata": {},
   "outputs": [],
   "source": [
    "test_k = get_k_vectors(7.5)"
   ]
  },
  {
   "cell_type": "code",
   "execution_count": 6,
   "id": "63e52a02",
   "metadata": {},
   "outputs": [
    {
     "name": "stdout",
     "output_type": "stream",
     "text": [
      "Reading File traj-5000.xyz\n"
     ]
    },
    {
     "data": {
      "application/vnd.jupyter.widget-view+json": {
       "model_id": "d386f7f7257e4304af69873986d892f5",
       "version_major": 2,
       "version_minor": 0
      },
      "text/plain": [
       "  0%|          | 0/10 [00:00<?, ?it/s]"
      ]
     },
     "metadata": {},
     "output_type": "display_data"
    }
   ],
   "source": [
    "traj, natoms = read_aimd_pimd_xyz_faster(\"traj-5000.xyz\")"
   ]
  },
  {
   "cell_type": "code",
   "execution_count": null,
   "id": "7589de5d",
   "metadata": {},
   "outputs": [],
   "source": []
  },
  {
   "cell_type": "code",
   "execution_count": 7,
   "id": "36c8843d",
   "metadata": {},
   "outputs": [],
   "source": [
    "def Sk(traj, natoms, k_vectors, box=[7.5, 7.5, 7.5] ):\n",
    "    box = np.array(box)\n",
    "    nframes = len(traj) \n",
    "    exp_as_a_function_of_k = np.zeros(len(k_vectors), dtype=np.complex64)\n",
    "    for index_vec_k, vec_k in enumerate(tqdm(k_vectors)):\n",
    "        exp_t = 0\n",
    "        for time in traj:\n",
    "            frame = traj[time].copy(deep=True)\n",
    "            frame_xyz = frame[['x', 'y', 'z']].to_numpy()        \n",
    "            exp_r_k_sum = compute_sk(frame_xyz, box, vec_k)\n",
    "            exp_t += exp_r_k_sum\n",
    "        exp_as_a_function_of_k[index_vec_k] = exp_t\n",
    "    exp_norm = exp_as_a_function_of_k / (natoms*nframes)\n",
    "    return exp_norm"
   ]
  },
  {
   "cell_type": "code",
   "execution_count": null,
   "id": "becaff46",
   "metadata": {},
   "outputs": [],
   "source": []
  },
  {
   "cell_type": "code",
   "execution_count": 9,
   "id": "263e1751",
   "metadata": {},
   "outputs": [],
   "source": [
    "@jit(nopython=True)\n",
    "def compute_sk(xyz_pos, box, vec_k): \n",
    "    exp_r_k_sum = 0\n",
    "    for atom1 in xyz_pos[:-1]:\n",
    "        for atom2 in xyz_pos[1:]:\n",
    "            d_ij = (atom2 - atom1)\n",
    "            r_ij = d_ij - (box * np.round((d_ij)/box, 0, np.zeros_like(d_ij)))\n",
    "            r_k_dot = np.dot(r_ij, vec_k)\n",
    "            exp_r_k = np.exp(complex(0, -r_k_dot))\n",
    "            exp_r_k_sum += exp_r_k\n",
    "    return exp_r_k_sum"
   ]
  },
  {
   "cell_type": "code",
   "execution_count": null,
   "id": "b8c1b271",
   "metadata": {},
   "outputs": [],
   "source": []
  },
  {
   "cell_type": "code",
   "execution_count": null,
   "id": "f5bca065",
   "metadata": {},
   "outputs": [],
   "source": []
  },
  {
   "cell_type": "code",
   "execution_count": 10,
   "id": "be3aea67",
   "metadata": {},
   "outputs": [
    {
     "data": {
      "application/vnd.jupyter.widget-view+json": {
       "model_id": "84254852c543433fbc08ff53943a900a",
       "version_major": 2,
       "version_minor": 0
      },
      "text/plain": [
       "  0%|          | 0/18300 [00:00<?, ?it/s]"
      ]
     },
     "metadata": {},
     "output_type": "display_data"
    }
   ],
   "source": [
    "test_sk = Sk(traj, natoms, test_k, box=[7.5, 7.5, 7.5])"
   ]
  },
  {
   "cell_type": "code",
   "execution_count": 37,
   "id": "e791c901",
   "metadata": {},
   "outputs": [
    {
     "ename": "ValueError",
     "evalue": "x and y must have same first dimension, but have shapes (2035,) and (183,)",
     "output_type": "error",
     "traceback": [
      "\u001b[0;31m---------------------------------------------------------------------------\u001b[0m",
      "\u001b[0;31mValueError\u001b[0m                                Traceback (most recent call last)",
      "\u001b[0;32m<ipython-input-37-eb99c032506f>\u001b[0m in \u001b[0;36m<module>\u001b[0;34m\u001b[0m\n\u001b[0;32m----> 1\u001b[0;31m \u001b[0mplt\u001b[0m\u001b[0;34m.\u001b[0m\u001b[0mplot\u001b[0m\u001b[0;34m(\u001b[0m\u001b[0mnp\u001b[0m\u001b[0;34m.\u001b[0m\u001b[0munique\u001b[0m\u001b[0;34m(\u001b[0m\u001b[0mnp\u001b[0m\u001b[0;34m.\u001b[0m\u001b[0mlinalg\u001b[0m\u001b[0;34m.\u001b[0m\u001b[0mnorm\u001b[0m\u001b[0;34m(\u001b[0m\u001b[0mtest_k\u001b[0m\u001b[0;34m,\u001b[0m \u001b[0maxis\u001b[0m\u001b[0;34m=\u001b[0m\u001b[0;36m1\u001b[0m\u001b[0;34m)\u001b[0m\u001b[0;34m)\u001b[0m\u001b[0;34m,\u001b[0m \u001b[0msk_norm\u001b[0m\u001b[0;34m[\u001b[0m\u001b[0;34m:\u001b[0m\u001b[0;34m]\u001b[0m\u001b[0;34m,\u001b[0m \u001b[0;34m'--'\u001b[0m\u001b[0;34m)\u001b[0m\u001b[0;34m\u001b[0m\u001b[0;34m\u001b[0m\u001b[0m\n\u001b[0m",
      "\u001b[0;32m~/softwares/python3-env/py3env/lib/python3.9/site-packages/matplotlib/pyplot.py\u001b[0m in \u001b[0;36mplot\u001b[0;34m(scalex, scaley, data, *args, **kwargs)\u001b[0m\n\u001b[1;32m   2986\u001b[0m \u001b[0;34m@\u001b[0m\u001b[0m_copy_docstring_and_deprecators\u001b[0m\u001b[0;34m(\u001b[0m\u001b[0mAxes\u001b[0m\u001b[0;34m.\u001b[0m\u001b[0mplot\u001b[0m\u001b[0;34m)\u001b[0m\u001b[0;34m\u001b[0m\u001b[0;34m\u001b[0m\u001b[0m\n\u001b[1;32m   2987\u001b[0m \u001b[0;32mdef\u001b[0m \u001b[0mplot\u001b[0m\u001b[0;34m(\u001b[0m\u001b[0;34m*\u001b[0m\u001b[0margs\u001b[0m\u001b[0;34m,\u001b[0m \u001b[0mscalex\u001b[0m\u001b[0;34m=\u001b[0m\u001b[0;32mTrue\u001b[0m\u001b[0;34m,\u001b[0m \u001b[0mscaley\u001b[0m\u001b[0;34m=\u001b[0m\u001b[0;32mTrue\u001b[0m\u001b[0;34m,\u001b[0m \u001b[0mdata\u001b[0m\u001b[0;34m=\u001b[0m\u001b[0;32mNone\u001b[0m\u001b[0;34m,\u001b[0m \u001b[0;34m**\u001b[0m\u001b[0mkwargs\u001b[0m\u001b[0;34m)\u001b[0m\u001b[0;34m:\u001b[0m\u001b[0;34m\u001b[0m\u001b[0;34m\u001b[0m\u001b[0m\n\u001b[0;32m-> 2988\u001b[0;31m     return gca().plot(\n\u001b[0m\u001b[1;32m   2989\u001b[0m         \u001b[0;34m*\u001b[0m\u001b[0margs\u001b[0m\u001b[0;34m,\u001b[0m \u001b[0mscalex\u001b[0m\u001b[0;34m=\u001b[0m\u001b[0mscalex\u001b[0m\u001b[0;34m,\u001b[0m \u001b[0mscaley\u001b[0m\u001b[0;34m=\u001b[0m\u001b[0mscaley\u001b[0m\u001b[0;34m,\u001b[0m\u001b[0;34m\u001b[0m\u001b[0;34m\u001b[0m\u001b[0m\n\u001b[1;32m   2990\u001b[0m         **({\"data\": data} if data is not None else {}), **kwargs)\n",
      "\u001b[0;32m~/softwares/python3-env/py3env/lib/python3.9/site-packages/matplotlib/axes/_axes.py\u001b[0m in \u001b[0;36mplot\u001b[0;34m(self, scalex, scaley, data, *args, **kwargs)\u001b[0m\n\u001b[1;32m   1603\u001b[0m         \"\"\"\n\u001b[1;32m   1604\u001b[0m         \u001b[0mkwargs\u001b[0m \u001b[0;34m=\u001b[0m \u001b[0mcbook\u001b[0m\u001b[0;34m.\u001b[0m\u001b[0mnormalize_kwargs\u001b[0m\u001b[0;34m(\u001b[0m\u001b[0mkwargs\u001b[0m\u001b[0;34m,\u001b[0m \u001b[0mmlines\u001b[0m\u001b[0;34m.\u001b[0m\u001b[0mLine2D\u001b[0m\u001b[0;34m)\u001b[0m\u001b[0;34m\u001b[0m\u001b[0;34m\u001b[0m\u001b[0m\n\u001b[0;32m-> 1605\u001b[0;31m         \u001b[0mlines\u001b[0m \u001b[0;34m=\u001b[0m \u001b[0;34m[\u001b[0m\u001b[0;34m*\u001b[0m\u001b[0mself\u001b[0m\u001b[0;34m.\u001b[0m\u001b[0m_get_lines\u001b[0m\u001b[0;34m(\u001b[0m\u001b[0;34m*\u001b[0m\u001b[0margs\u001b[0m\u001b[0;34m,\u001b[0m \u001b[0mdata\u001b[0m\u001b[0;34m=\u001b[0m\u001b[0mdata\u001b[0m\u001b[0;34m,\u001b[0m \u001b[0;34m**\u001b[0m\u001b[0mkwargs\u001b[0m\u001b[0;34m)\u001b[0m\u001b[0;34m]\u001b[0m\u001b[0;34m\u001b[0m\u001b[0;34m\u001b[0m\u001b[0m\n\u001b[0m\u001b[1;32m   1606\u001b[0m         \u001b[0;32mfor\u001b[0m \u001b[0mline\u001b[0m \u001b[0;32min\u001b[0m \u001b[0mlines\u001b[0m\u001b[0;34m:\u001b[0m\u001b[0;34m\u001b[0m\u001b[0;34m\u001b[0m\u001b[0m\n\u001b[1;32m   1607\u001b[0m             \u001b[0mself\u001b[0m\u001b[0;34m.\u001b[0m\u001b[0madd_line\u001b[0m\u001b[0;34m(\u001b[0m\u001b[0mline\u001b[0m\u001b[0;34m)\u001b[0m\u001b[0;34m\u001b[0m\u001b[0;34m\u001b[0m\u001b[0m\n",
      "\u001b[0;32m~/softwares/python3-env/py3env/lib/python3.9/site-packages/matplotlib/axes/_base.py\u001b[0m in \u001b[0;36m__call__\u001b[0;34m(self, data, *args, **kwargs)\u001b[0m\n\u001b[1;32m    313\u001b[0m                 \u001b[0mthis\u001b[0m \u001b[0;34m+=\u001b[0m \u001b[0margs\u001b[0m\u001b[0;34m[\u001b[0m\u001b[0;36m0\u001b[0m\u001b[0;34m]\u001b[0m\u001b[0;34m,\u001b[0m\u001b[0;34m\u001b[0m\u001b[0;34m\u001b[0m\u001b[0m\n\u001b[1;32m    314\u001b[0m                 \u001b[0margs\u001b[0m \u001b[0;34m=\u001b[0m \u001b[0margs\u001b[0m\u001b[0;34m[\u001b[0m\u001b[0;36m1\u001b[0m\u001b[0;34m:\u001b[0m\u001b[0;34m]\u001b[0m\u001b[0;34m\u001b[0m\u001b[0;34m\u001b[0m\u001b[0m\n\u001b[0;32m--> 315\u001b[0;31m             \u001b[0;32myield\u001b[0m \u001b[0;32mfrom\u001b[0m \u001b[0mself\u001b[0m\u001b[0;34m.\u001b[0m\u001b[0m_plot_args\u001b[0m\u001b[0;34m(\u001b[0m\u001b[0mthis\u001b[0m\u001b[0;34m,\u001b[0m \u001b[0mkwargs\u001b[0m\u001b[0;34m)\u001b[0m\u001b[0;34m\u001b[0m\u001b[0;34m\u001b[0m\u001b[0m\n\u001b[0m\u001b[1;32m    316\u001b[0m \u001b[0;34m\u001b[0m\u001b[0m\n\u001b[1;32m    317\u001b[0m     \u001b[0;32mdef\u001b[0m \u001b[0mget_next_color\u001b[0m\u001b[0;34m(\u001b[0m\u001b[0mself\u001b[0m\u001b[0;34m)\u001b[0m\u001b[0;34m:\u001b[0m\u001b[0;34m\u001b[0m\u001b[0;34m\u001b[0m\u001b[0m\n",
      "\u001b[0;32m~/softwares/python3-env/py3env/lib/python3.9/site-packages/matplotlib/axes/_base.py\u001b[0m in \u001b[0;36m_plot_args\u001b[0;34m(self, tup, kwargs, return_kwargs)\u001b[0m\n\u001b[1;32m    499\u001b[0m \u001b[0;34m\u001b[0m\u001b[0m\n\u001b[1;32m    500\u001b[0m         \u001b[0;32mif\u001b[0m \u001b[0mx\u001b[0m\u001b[0;34m.\u001b[0m\u001b[0mshape\u001b[0m\u001b[0;34m[\u001b[0m\u001b[0;36m0\u001b[0m\u001b[0;34m]\u001b[0m \u001b[0;34m!=\u001b[0m \u001b[0my\u001b[0m\u001b[0;34m.\u001b[0m\u001b[0mshape\u001b[0m\u001b[0;34m[\u001b[0m\u001b[0;36m0\u001b[0m\u001b[0;34m]\u001b[0m\u001b[0;34m:\u001b[0m\u001b[0;34m\u001b[0m\u001b[0;34m\u001b[0m\u001b[0m\n\u001b[0;32m--> 501\u001b[0;31m             raise ValueError(f\"x and y must have same first dimension, but \"\n\u001b[0m\u001b[1;32m    502\u001b[0m                              f\"have shapes {x.shape} and {y.shape}\")\n\u001b[1;32m    503\u001b[0m         \u001b[0;32mif\u001b[0m \u001b[0mx\u001b[0m\u001b[0;34m.\u001b[0m\u001b[0mndim\u001b[0m \u001b[0;34m>\u001b[0m \u001b[0;36m2\u001b[0m \u001b[0;32mor\u001b[0m \u001b[0my\u001b[0m\u001b[0;34m.\u001b[0m\u001b[0mndim\u001b[0m \u001b[0;34m>\u001b[0m \u001b[0;36m2\u001b[0m\u001b[0;34m:\u001b[0m\u001b[0;34m\u001b[0m\u001b[0;34m\u001b[0m\u001b[0m\n",
      "\u001b[0;31mValueError\u001b[0m: x and y must have same first dimension, but have shapes (2035,) and (183,)"
     ]
    },
    {
     "data": {
      "image/png": "[encoded data removed]",
      "text/plain": [
       "<Figure size 432x288 with 1 Axes>"
      ]
     },
     "metadata": {
      "needs_background": "light"
     },
     "output_type": "display_data"
    }
   ],
   "source": [
    "plt.plot(np.linspace(, k_max, nbins), sk_norm[:], '--')"
   ]
  },
  {
   "cell_type": "code",
   "execution_count": null,
   "id": "11e6d207",
   "metadata": {},
   "outputs": [],
   "source": []
  },
  {
   "cell_type": "code",
   "execution_count": 41,
   "id": "a6fec6b4",
   "metadata": {},
   "outputs": [
    {
     "data": {
      "text/plain": [
       "array([ 1.67551608,  1.67551608,  1.67551608, ..., 20.        ,\n",
       "       20.        , 20.        ])"
      ]
     },
     "execution_count": 41,
     "metadata": {},
     "output_type": "execute_result"
    }
   ],
   "source": [
    "(np.linalg.norm(test_k, axis=1))"
   ]
  },
  {
   "cell_type": "code",
   "execution_count": 35,
   "id": "5721f4b8",
   "metadata": {},
   "outputs": [],
   "source": [
    "sk_norm = np.sum(np.split(np.abs(test_sk)[:], 183), axis=1)/100"
   ]
  },
  {
   "cell_type": "code",
   "execution_count": null,
   "id": "da922003",
   "metadata": {},
   "outputs": [],
   "source": []
  },
  {
   "cell_type": "code",
   "execution_count": null,
   "id": "51741e8c",
   "metadata": {},
   "outputs": [],
   "source": [
    "for i in range(200):\n",
    "    vec = uniform_random_rotation(np.array([1, 0, 0]))\n",
    "    print(vec, np.linalg.norm(vec))"
   ]
  },
  {
   "cell_type": "code",
   "execution_count": null,
   "id": "469166b6",
   "metadata": {},
   "outputs": [],
   "source": []
  },
  {
   "cell_type": "code",
   "execution_count": null,
   "id": "79da4f3f",
   "metadata": {},
   "outputs": [],
   "source": []
  },
  {
   "cell_type": "code",
   "execution_count": null,
   "id": "703229d5",
   "metadata": {},
   "outputs": [],
   "source": []
  },
  {
   "cell_type": "code",
   "execution_count": null,
   "id": "36974a0f",
   "metadata": {},
   "outputs": [],
   "source": []
  }
 ],
 "metadata": {
  "kernelspec": {
   "display_name": "Python 3",
   "language": "python",
   "name": "python3"
  },
  "language_info": {
   "codemirror_mode": {
    "name": "ipython",
    "version": 3
   },
   "file_extension": ".py",
   "mimetype": "text/x-python",
   "name": "python",
   "nbconvert_exporter": "python",
   "pygments_lexer": "ipython3",
   "version": "3.9.13"
  }
 },
 "nbformat": 4,
 "nbformat_minor": 5
}
